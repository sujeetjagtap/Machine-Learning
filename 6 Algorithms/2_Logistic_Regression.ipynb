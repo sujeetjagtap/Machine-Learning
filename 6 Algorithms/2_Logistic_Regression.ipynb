{
 "cells": [
  {
   "cell_type": "markdown",
   "id": "6a8e767d",
   "metadata": {},
   "source": [
    "# Machine Learning Algorithms: Logistic Regression"
   ]
  },
  {
   "cell_type": "markdown",
   "id": "d704f35e",
   "metadata": {},
   "source": [
    "## Multinomial Logistic Regression applied to Fashion MNIST (Image Classification)"
   ]
  },
  {
   "cell_type": "markdown",
   "id": "a813110e",
   "metadata": {},
   "source": [
    "### Implementation with sklearn "
   ]
  },
  {
   "cell_type": "code",
   "execution_count": 8,
   "id": "b7414eba",
   "metadata": {},
   "outputs": [
    {
     "data": {
      "text/html": [
       "<div>\n",
       "<style scoped>\n",
       "    .dataframe tbody tr th:only-of-type {\n",
       "        vertical-align: middle;\n",
       "    }\n",
       "\n",
       "    .dataframe tbody tr th {\n",
       "        vertical-align: top;\n",
       "    }\n",
       "\n",
       "    .dataframe thead th {\n",
       "        text-align: right;\n",
       "    }\n",
       "</style>\n",
       "<table border=\"1\" class=\"dataframe\">\n",
       "  <thead>\n",
       "    <tr style=\"text-align: right;\">\n",
       "      <th></th>\n",
       "      <th>label</th>\n",
       "      <th>pixel1</th>\n",
       "      <th>pixel2</th>\n",
       "      <th>pixel3</th>\n",
       "      <th>pixel4</th>\n",
       "      <th>pixel5</th>\n",
       "      <th>pixel6</th>\n",
       "      <th>pixel7</th>\n",
       "      <th>pixel8</th>\n",
       "      <th>pixel9</th>\n",
       "      <th>...</th>\n",
       "      <th>pixel775</th>\n",
       "      <th>pixel776</th>\n",
       "      <th>pixel777</th>\n",
       "      <th>pixel778</th>\n",
       "      <th>pixel779</th>\n",
       "      <th>pixel780</th>\n",
       "      <th>pixel781</th>\n",
       "      <th>pixel782</th>\n",
       "      <th>pixel783</th>\n",
       "      <th>pixel784</th>\n",
       "    </tr>\n",
       "  </thead>\n",
       "  <tbody>\n",
       "    <tr>\n",
       "      <th>0</th>\n",
       "      <td>2</td>\n",
       "      <td>0</td>\n",
       "      <td>0</td>\n",
       "      <td>0</td>\n",
       "      <td>0</td>\n",
       "      <td>0</td>\n",
       "      <td>0</td>\n",
       "      <td>0</td>\n",
       "      <td>0</td>\n",
       "      <td>0</td>\n",
       "      <td>...</td>\n",
       "      <td>0</td>\n",
       "      <td>0</td>\n",
       "      <td>0</td>\n",
       "      <td>0</td>\n",
       "      <td>0</td>\n",
       "      <td>0</td>\n",
       "      <td>0</td>\n",
       "      <td>0</td>\n",
       "      <td>0</td>\n",
       "      <td>0</td>\n",
       "    </tr>\n",
       "    <tr>\n",
       "      <th>1</th>\n",
       "      <td>9</td>\n",
       "      <td>0</td>\n",
       "      <td>0</td>\n",
       "      <td>0</td>\n",
       "      <td>0</td>\n",
       "      <td>0</td>\n",
       "      <td>0</td>\n",
       "      <td>0</td>\n",
       "      <td>0</td>\n",
       "      <td>0</td>\n",
       "      <td>...</td>\n",
       "      <td>0</td>\n",
       "      <td>0</td>\n",
       "      <td>0</td>\n",
       "      <td>0</td>\n",
       "      <td>0</td>\n",
       "      <td>0</td>\n",
       "      <td>0</td>\n",
       "      <td>0</td>\n",
       "      <td>0</td>\n",
       "      <td>0</td>\n",
       "    </tr>\n",
       "    <tr>\n",
       "      <th>2</th>\n",
       "      <td>6</td>\n",
       "      <td>0</td>\n",
       "      <td>0</td>\n",
       "      <td>0</td>\n",
       "      <td>0</td>\n",
       "      <td>0</td>\n",
       "      <td>0</td>\n",
       "      <td>0</td>\n",
       "      <td>5</td>\n",
       "      <td>0</td>\n",
       "      <td>...</td>\n",
       "      <td>0</td>\n",
       "      <td>0</td>\n",
       "      <td>0</td>\n",
       "      <td>30</td>\n",
       "      <td>43</td>\n",
       "      <td>0</td>\n",
       "      <td>0</td>\n",
       "      <td>0</td>\n",
       "      <td>0</td>\n",
       "      <td>0</td>\n",
       "    </tr>\n",
       "    <tr>\n",
       "      <th>3</th>\n",
       "      <td>0</td>\n",
       "      <td>0</td>\n",
       "      <td>0</td>\n",
       "      <td>0</td>\n",
       "      <td>1</td>\n",
       "      <td>2</td>\n",
       "      <td>0</td>\n",
       "      <td>0</td>\n",
       "      <td>0</td>\n",
       "      <td>0</td>\n",
       "      <td>...</td>\n",
       "      <td>3</td>\n",
       "      <td>0</td>\n",
       "      <td>0</td>\n",
       "      <td>0</td>\n",
       "      <td>0</td>\n",
       "      <td>1</td>\n",
       "      <td>0</td>\n",
       "      <td>0</td>\n",
       "      <td>0</td>\n",
       "      <td>0</td>\n",
       "    </tr>\n",
       "    <tr>\n",
       "      <th>4</th>\n",
       "      <td>3</td>\n",
       "      <td>0</td>\n",
       "      <td>0</td>\n",
       "      <td>0</td>\n",
       "      <td>0</td>\n",
       "      <td>0</td>\n",
       "      <td>0</td>\n",
       "      <td>0</td>\n",
       "      <td>0</td>\n",
       "      <td>0</td>\n",
       "      <td>...</td>\n",
       "      <td>0</td>\n",
       "      <td>0</td>\n",
       "      <td>0</td>\n",
       "      <td>0</td>\n",
       "      <td>0</td>\n",
       "      <td>0</td>\n",
       "      <td>0</td>\n",
       "      <td>0</td>\n",
       "      <td>0</td>\n",
       "      <td>0</td>\n",
       "    </tr>\n",
       "  </tbody>\n",
       "</table>\n",
       "<p>5 rows × 785 columns</p>\n",
       "</div>"
      ],
      "text/plain": [
       "   label  pixel1  pixel2  pixel3  pixel4  pixel5  pixel6  pixel7  pixel8  \\\n",
       "0      2       0       0       0       0       0       0       0       0   \n",
       "1      9       0       0       0       0       0       0       0       0   \n",
       "2      6       0       0       0       0       0       0       0       5   \n",
       "3      0       0       0       0       1       2       0       0       0   \n",
       "4      3       0       0       0       0       0       0       0       0   \n",
       "\n",
       "   pixel9  ...  pixel775  pixel776  pixel777  pixel778  pixel779  pixel780  \\\n",
       "0       0  ...         0         0         0         0         0         0   \n",
       "1       0  ...         0         0         0         0         0         0   \n",
       "2       0  ...         0         0         0        30        43         0   \n",
       "3       0  ...         3         0         0         0         0         1   \n",
       "4       0  ...         0         0         0         0         0         0   \n",
       "\n",
       "   pixel781  pixel782  pixel783  pixel784  \n",
       "0         0         0         0         0  \n",
       "1         0         0         0         0  \n",
       "2         0         0         0         0  \n",
       "3         0         0         0         0  \n",
       "4         0         0         0         0  \n",
       "\n",
       "[5 rows x 785 columns]"
      ]
     },
     "execution_count": 8,
     "metadata": {},
     "output_type": "execute_result"
    }
   ],
   "source": [
    "# Import Libraries\n",
    "import numpy as np\n",
    "import matplotlib.pyplot as plt\n",
    "import pandas as pd\n",
    "\n",
    "from sklearn.model_selection import train_test_split\n",
    "from sklearn import metrics\n",
    "from sklearn.model_selection import cross_val_score\n",
    "from sklearn.linear_model import LogisticRegression\n",
    "from sklearn.linear_model import SGDClassifier\n",
    "\n",
    "# load data: Capture the dataset in Python using Pandas DataFrame\n",
    "csv_data = '../data/datasets/fashion-mnist_train.csv'\n",
    "df = pd.read_csv(csv_data, delimiter=',')\n",
    "\n",
    "\n",
    "# Initiate the label values\n",
    "Labels = {0:'T-shirt/top',\n",
    "          1:'Trouser',\n",
    "          2:'Pullover',\n",
    "          3:'Dress',\n",
    "          4:'Coat',\n",
    "          5:'Sandal',\n",
    "          6:'Shirt',\n",
    "          7:'Sneaker',\n",
    "          8:'Bag',\n",
    "          9:'Ankle boot'}\n",
    "\n",
    "df.head()"
   ]
  },
  {
   "cell_type": "code",
   "execution_count": 2,
   "id": "5222de69",
   "metadata": {},
   "outputs": [
    {
     "name": "stdout",
     "output_type": "stream",
     "text": [
      "Actual Label:  Ankle boot\n"
     ]
    },
    {
     "data": {
      "text/plain": [
       "<matplotlib.image.AxesImage at 0x12a4f5c70>"
      ]
     },
     "execution_count": 2,
     "metadata": {},
     "output_type": "execute_result"
    },
    {
     "data": {
      "image/png": "[encoded data removed]",
      "text/plain": [
       "<Figure size 432x288 with 1 Axes>"
      ]
     },
     "metadata": {
      "needs_background": "light"
     },
     "output_type": "display_data"
    }
   ],
   "source": [
    "# Divide the data, y the variable to predict (label) and X the features\n",
    "X = df[df.columns[1:]]\n",
    "y = df['label']\n",
    "\n",
    "# Let's just show a couple of examples\n",
    "features = X.loc[1].values \n",
    "print(\"Actual Label: \", Labels[y.loc[1]])\n",
    "plt.imshow(features.reshape(28,28))"
   ]
  },
  {
   "cell_type": "code",
   "execution_count": 3,
   "id": "b4c5c28c",
   "metadata": {},
   "outputs": [
    {
     "name": "stdout",
     "output_type": "stream",
     "text": [
      "Actual Label:  Shirt\n"
     ]
    },
    {
     "data": {
      "text/plain": [
       "<matplotlib.image.AxesImage at 0x12a3ccc10>"
      ]
     },
     "execution_count": 3,
     "metadata": {},
     "output_type": "execute_result"
    },
    {
     "data": {
      "image/png": "[encoded data removed]",
      "text/plain": [
       "<Figure size 432x288 with 1 Axes>"
      ]
     },
     "metadata": {
      "needs_background": "light"
     },
     "output_type": "display_data"
    }
   ],
   "source": [
    "features = X.loc[2].values \n",
    "print(\"Actual Label: \", Labels[y.loc[2]])\n",
    "plt.imshow(features.reshape(28,28))"
   ]
  },
  {
   "cell_type": "code",
   "execution_count": 4,
   "id": "7781e8df",
   "metadata": {},
   "outputs": [
    {
     "data": {
      "text/html": [
       "<div>\n",
       "<style scoped>\n",
       "    .dataframe tbody tr th:only-of-type {\n",
       "        vertical-align: middle;\n",
       "    }\n",
       "\n",
       "    .dataframe tbody tr th {\n",
       "        vertical-align: top;\n",
       "    }\n",
       "\n",
       "    .dataframe thead th {\n",
       "        text-align: right;\n",
       "    }\n",
       "</style>\n",
       "<table border=\"1\" class=\"dataframe\">\n",
       "  <thead>\n",
       "    <tr style=\"text-align: right;\">\n",
       "      <th></th>\n",
       "      <th>pixel1</th>\n",
       "      <th>pixel2</th>\n",
       "      <th>pixel3</th>\n",
       "      <th>pixel4</th>\n",
       "      <th>pixel5</th>\n",
       "      <th>pixel6</th>\n",
       "      <th>pixel7</th>\n",
       "      <th>pixel8</th>\n",
       "      <th>pixel9</th>\n",
       "      <th>pixel10</th>\n",
       "      <th>...</th>\n",
       "      <th>pixel775</th>\n",
       "      <th>pixel776</th>\n",
       "      <th>pixel777</th>\n",
       "      <th>pixel778</th>\n",
       "      <th>pixel779</th>\n",
       "      <th>pixel780</th>\n",
       "      <th>pixel781</th>\n",
       "      <th>pixel782</th>\n",
       "      <th>pixel783</th>\n",
       "      <th>pixel784</th>\n",
       "    </tr>\n",
       "  </thead>\n",
       "  <tbody>\n",
       "    <tr>\n",
       "      <th>0</th>\n",
       "      <td>0.0</td>\n",
       "      <td>0.0</td>\n",
       "      <td>0.0</td>\n",
       "      <td>0.000000</td>\n",
       "      <td>0.000000</td>\n",
       "      <td>0.0</td>\n",
       "      <td>0.0</td>\n",
       "      <td>0.000000</td>\n",
       "      <td>0.0</td>\n",
       "      <td>0.0</td>\n",
       "      <td>...</td>\n",
       "      <td>0.000000</td>\n",
       "      <td>0.0</td>\n",
       "      <td>0.0</td>\n",
       "      <td>0.000000</td>\n",
       "      <td>0.000000</td>\n",
       "      <td>0.000000</td>\n",
       "      <td>0.0</td>\n",
       "      <td>0.0</td>\n",
       "      <td>0.0</td>\n",
       "      <td>0.0</td>\n",
       "    </tr>\n",
       "    <tr>\n",
       "      <th>1</th>\n",
       "      <td>0.0</td>\n",
       "      <td>0.0</td>\n",
       "      <td>0.0</td>\n",
       "      <td>0.000000</td>\n",
       "      <td>0.000000</td>\n",
       "      <td>0.0</td>\n",
       "      <td>0.0</td>\n",
       "      <td>0.000000</td>\n",
       "      <td>0.0</td>\n",
       "      <td>0.0</td>\n",
       "      <td>...</td>\n",
       "      <td>0.000000</td>\n",
       "      <td>0.0</td>\n",
       "      <td>0.0</td>\n",
       "      <td>0.000000</td>\n",
       "      <td>0.000000</td>\n",
       "      <td>0.000000</td>\n",
       "      <td>0.0</td>\n",
       "      <td>0.0</td>\n",
       "      <td>0.0</td>\n",
       "      <td>0.0</td>\n",
       "    </tr>\n",
       "    <tr>\n",
       "      <th>2</th>\n",
       "      <td>0.0</td>\n",
       "      <td>0.0</td>\n",
       "      <td>0.0</td>\n",
       "      <td>0.000000</td>\n",
       "      <td>0.000000</td>\n",
       "      <td>0.0</td>\n",
       "      <td>0.0</td>\n",
       "      <td>0.019608</td>\n",
       "      <td>0.0</td>\n",
       "      <td>0.0</td>\n",
       "      <td>...</td>\n",
       "      <td>0.000000</td>\n",
       "      <td>0.0</td>\n",
       "      <td>0.0</td>\n",
       "      <td>0.117647</td>\n",
       "      <td>0.168627</td>\n",
       "      <td>0.000000</td>\n",
       "      <td>0.0</td>\n",
       "      <td>0.0</td>\n",
       "      <td>0.0</td>\n",
       "      <td>0.0</td>\n",
       "    </tr>\n",
       "    <tr>\n",
       "      <th>3</th>\n",
       "      <td>0.0</td>\n",
       "      <td>0.0</td>\n",
       "      <td>0.0</td>\n",
       "      <td>0.003922</td>\n",
       "      <td>0.007843</td>\n",
       "      <td>0.0</td>\n",
       "      <td>0.0</td>\n",
       "      <td>0.000000</td>\n",
       "      <td>0.0</td>\n",
       "      <td>0.0</td>\n",
       "      <td>...</td>\n",
       "      <td>0.011765</td>\n",
       "      <td>0.0</td>\n",
       "      <td>0.0</td>\n",
       "      <td>0.000000</td>\n",
       "      <td>0.000000</td>\n",
       "      <td>0.003922</td>\n",
       "      <td>0.0</td>\n",
       "      <td>0.0</td>\n",
       "      <td>0.0</td>\n",
       "      <td>0.0</td>\n",
       "    </tr>\n",
       "    <tr>\n",
       "      <th>4</th>\n",
       "      <td>0.0</td>\n",
       "      <td>0.0</td>\n",
       "      <td>0.0</td>\n",
       "      <td>0.000000</td>\n",
       "      <td>0.000000</td>\n",
       "      <td>0.0</td>\n",
       "      <td>0.0</td>\n",
       "      <td>0.000000</td>\n",
       "      <td>0.0</td>\n",
       "      <td>0.0</td>\n",
       "      <td>...</td>\n",
       "      <td>0.000000</td>\n",
       "      <td>0.0</td>\n",
       "      <td>0.0</td>\n",
       "      <td>0.000000</td>\n",
       "      <td>0.000000</td>\n",
       "      <td>0.000000</td>\n",
       "      <td>0.0</td>\n",
       "      <td>0.0</td>\n",
       "      <td>0.0</td>\n",
       "      <td>0.0</td>\n",
       "    </tr>\n",
       "  </tbody>\n",
       "</table>\n",
       "<p>5 rows × 784 columns</p>\n",
       "</div>"
      ],
      "text/plain": [
       "   pixel1  pixel2  pixel3    pixel4    pixel5  pixel6  pixel7    pixel8  \\\n",
       "0     0.0     0.0     0.0  0.000000  0.000000     0.0     0.0  0.000000   \n",
       "1     0.0     0.0     0.0  0.000000  0.000000     0.0     0.0  0.000000   \n",
       "2     0.0     0.0     0.0  0.000000  0.000000     0.0     0.0  0.019608   \n",
       "3     0.0     0.0     0.0  0.003922  0.007843     0.0     0.0  0.000000   \n",
       "4     0.0     0.0     0.0  0.000000  0.000000     0.0     0.0  0.000000   \n",
       "\n",
       "   pixel9  pixel10  ...  pixel775  pixel776  pixel777  pixel778  pixel779  \\\n",
       "0     0.0      0.0  ...  0.000000       0.0       0.0  0.000000  0.000000   \n",
       "1     0.0      0.0  ...  0.000000       0.0       0.0  0.000000  0.000000   \n",
       "2     0.0      0.0  ...  0.000000       0.0       0.0  0.117647  0.168627   \n",
       "3     0.0      0.0  ...  0.011765       0.0       0.0  0.000000  0.000000   \n",
       "4     0.0      0.0  ...  0.000000       0.0       0.0  0.000000  0.000000   \n",
       "\n",
       "   pixel780  pixel781  pixel782  pixel783  pixel784  \n",
       "0  0.000000       0.0       0.0       0.0       0.0  \n",
       "1  0.000000       0.0       0.0       0.0       0.0  \n",
       "2  0.000000       0.0       0.0       0.0       0.0  \n",
       "3  0.003922       0.0       0.0       0.0       0.0  \n",
       "4  0.000000       0.0       0.0       0.0       0.0  \n",
       "\n",
       "[5 rows x 784 columns]"
      ]
     },
     "execution_count": 4,
     "metadata": {},
     "output_type": "execute_result"
    }
   ],
   "source": [
    "# As the pixel values range from 0 to 256, apart from 0 the range is 255. \n",
    "# So dividing all the values by 255 will convert it to range from 0 to 1.\n",
    "X = X/255\n",
    "X.head()"
   ]
  },
  {
   "cell_type": "code",
   "execution_count": 10,
   "id": "16f96c89",
   "metadata": {},
   "outputs": [
    {
     "name": "stderr",
     "output_type": "stream",
     "text": [
      "/usr/local/lib/python3.9/site-packages/sklearn/linear_model/_sag.py:352: ConvergenceWarning: The max_iter was reached which means the coef_ did not converge\n",
      "  warnings.warn(\n"
     ]
    },
    {
     "name": "stdout",
     "output_type": "stream",
     "text": [
      "[7 8 8 ... 9 5 5]\n",
      "\n",
      "\n",
      "classification accuracy: 0.8510833333333333\n",
      "precision: 0.8510833333333333\n",
      "recall: 0.8510833333333333\n",
      "f1 score: 0.8510833333333333\n"
     ]
    },
    {
     "name": "stderr",
     "output_type": "stream",
     "text": [
      "/usr/local/lib/python3.9/site-packages/sklearn/linear_model/_sag.py:352: ConvergenceWarning: The max_iter was reached which means the coef_ did not converge\n",
      "  warnings.warn(\n",
      "/usr/local/lib/python3.9/site-packages/sklearn/linear_model/_sag.py:352: ConvergenceWarning: The max_iter was reached which means the coef_ did not converge\n",
      "  warnings.warn(\n",
      "/usr/local/lib/python3.9/site-packages/sklearn/linear_model/_sag.py:352: ConvergenceWarning: The max_iter was reached which means the coef_ did not converge\n",
      "  warnings.warn(\n",
      "/usr/local/lib/python3.9/site-packages/sklearn/linear_model/_sag.py:352: ConvergenceWarning: The max_iter was reached which means the coef_ did not converge\n",
      "  warnings.warn(\n"
     ]
    },
    {
     "name": "stdout",
     "output_type": "stream",
     "text": [
      "cross validation: [0.85583333 0.85575    0.8555     0.84933333 0.85125   ]\n"
     ]
    },
    {
     "name": "stderr",
     "output_type": "stream",
     "text": [
      "/usr/local/lib/python3.9/site-packages/sklearn/linear_model/_sag.py:352: ConvergenceWarning: The max_iter was reached which means the coef_ did not converge\n",
      "  warnings.warn(\n"
     ]
    }
   ],
   "source": [
    "# Splitting the data : training (80%) and test (20%)\n",
    "X_train, X_test, y_train, y_test = train_test_split(X, y, test_size=0.2, random_state=42)\n",
    "\n",
    "# Sckit-learn implementation\n",
    "\n",
    "# Model initialization\n",
    "logistic_model = LogisticRegression(solver='sag', multi_class='auto')\n",
    "# Fit the data (train the model)\n",
    "logistic_model.fit(X_train, y_train)\n",
    "# Model prediction on new data (X_test)\n",
    "y_pred = logistic_model.predict(X_test)\n",
    "print(y_pred)\n",
    "print('\\n')\n",
    "\n",
    "# Model Metrics and Evaluation\n",
    "print(\"classification accuracy:\", metrics.accuracy_score(y_test, y_pred))\n",
    "print(\"precision:\", metrics.precision_score(y_test, y_pred, average='micro'))\n",
    "print(\"recall:\", metrics.recall_score(y_test, y_pred, average='micro'))\n",
    "print(\"f1 score:\", metrics.f1_score(y_test, y_pred, average='micro'))\n",
    "print(\"cross validation:\",cross_val_score(logistic_model, X, y, cv=5))"
   ]
  },
  {
   "cell_type": "code",
   "execution_count": 28,
   "id": "7bc616a3",
   "metadata": {},
   "outputs": [
    {
     "name": "stdout",
     "output_type": "stream",
     "text": [
      "              precision    recall  f1-score   support\n",
      "\n",
      "           0       0.79      0.82      0.80      1232\n",
      "           1       0.97      0.96      0.96      1174\n",
      "           2       0.76      0.76      0.76      1200\n",
      "           3       0.85      0.87      0.86      1242\n",
      "           4       0.74      0.77      0.75      1185\n",
      "           5       0.93      0.94      0.93      1141\n",
      "           6       0.65      0.58      0.61      1243\n",
      "           7       0.93      0.94      0.93      1224\n",
      "           8       0.95      0.95      0.95      1149\n",
      "           9       0.96      0.95      0.96      1210\n",
      "\n",
      "    accuracy                           0.85     12000\n",
      "   macro avg       0.85      0.85      0.85     12000\n",
      "weighted avg       0.85      0.85      0.85     12000\n",
      "\n"
     ]
    }
   ],
   "source": [
    "print(classification_report(y_test,y_pred))"
   ]
  },
  {
   "cell_type": "markdown",
   "id": "b3726fe6",
   "metadata": {},
   "source": [
    "### Multinomial Logistic Regression with Keras on TensorFlow "
   ]
  },
  {
   "cell_type": "code",
   "execution_count": 46,
   "id": "fb51f815",
   "metadata": {},
   "outputs": [],
   "source": [
    "import numpy as np\n",
    "import pandas as pd\n",
    "import tensorflow as tf\n",
    "\n",
    "from tensorflow.keras.models import Sequential\n",
    "from tensorflow.keras.layers import Flatten, Dense\n",
    "from tensorflow.keras.optimizers import SGD\n",
    "\n",
    "from sklearn.preprocessing import MinMaxScaler\n",
    "from sklearn.model_selection import train_test_split\n",
    "from sklearn.metrics import classification_report\n",
    "\n",
    "\n",
    "# load data: Capture the dataset in Python using Pandas DataFrame\n",
    "csv_data = '../data/datasets/fashion-mnist_train.csv'\n",
    "df = pd.read_csv(csv_data, delimiter=',')\n",
    "\n",
    "# Divide the data, y the variable to predict (label) and X the features\n",
    "X = df[df.columns[1:]]\n",
    "y = df['label']\n",
    "\n",
    "# As the pixel values range from 0 to 256, apart from 0 the range is 255. \n",
    "# So dividing all the values by 255 will convert it to range from 0 to 1.\n",
    "X = X/255\n",
    "\n",
    "# Splitting the data : training (80%) and test (20%)\n",
    "X_train, X_test, y_train, y_test = train_test_split(X, y, test_size=0.2, random_state=42)\n",
    "\n",
    "# Define number of classes and number of features to include in our model\n",
    "number_of_classes = 10\n",
    "number_of_features = X_train.shape[1]\n",
    "\n",
    "keras_model = Sequential()\n",
    "keras_model.add(Flatten(input_dim=number_of_features))\n",
    "keras_model.add(Dense(number_of_classes, activation='softmax'))\n",
    "                \n",
    "keras_model.compile(optimizer = SGD(learning_rate = 1e-2),\n",
    "                    loss = 'sparse_categorical_crossentropy',\n",
    "                    metrics = ['sparse_categorical_accuracy'])"
   ]
  },
  {
   "cell_type": "code",
   "execution_count": 47,
   "id": "f3038933",
   "metadata": {},
   "outputs": [
    {
     "name": "stdout",
     "output_type": "stream",
     "text": [
      "Epoch 1/5\n",
      "1500/1500 [==============================] - 3s 2ms/step - loss: 0.8728 - sparse_categorical_accuracy: 0.7248\n",
      "Epoch 2/5\n",
      "1500/1500 [==============================] - 3s 2ms/step - loss: 0.6190 - sparse_categorical_accuracy: 0.8002\n",
      "Epoch 3/5\n",
      "1500/1500 [==============================] - 3s 2ms/step - loss: 0.5644 - sparse_categorical_accuracy: 0.8152\n",
      "Epoch 4/5\n",
      "1500/1500 [==============================] - 3s 2ms/step - loss: 0.5349 - sparse_categorical_accuracy: 0.8226\n",
      "Epoch 5/5\n",
      "1500/1500 [==============================] - 3s 2ms/step - loss: 0.5158 - sparse_categorical_accuracy: 0.8282\n"
     ]
    }
   ],
   "source": [
    "history = keras_model.fit(X_train, y_train, epochs=5)"
   ]
  },
  {
   "cell_type": "code",
   "execution_count": 44,
   "id": "b6418d85",
   "metadata": {},
   "outputs": [
    {
     "name": "stdout",
     "output_type": "stream",
     "text": [
      "375/375 [==============================] - 1s 1ms/step - loss: 0.5116 - sparse_categorical_accuracy: 0.8264\n"
     ]
    },
    {
     "data": {
      "text/plain": [
       "[0.5115869045257568, 0.8264166712760925]"
      ]
     },
     "execution_count": 44,
     "metadata": {},
     "output_type": "execute_result"
    }
   ],
   "source": [
    "keras_model.evaluate(X_test, y_test) # loss, sparse_categorical_accuracy"
   ]
  },
  {
   "cell_type": "code",
   "execution_count": 49,
   "id": "bd39479c",
   "metadata": {},
   "outputs": [
    {
     "name": "stdout",
     "output_type": "stream",
     "text": [
      "[[3.17936647e-05 7.14810594e-05 1.38558680e-04 ... 9.62919056e-01\n",
      "  1.18203030e-03 4.68243798e-03]\n",
      " [6.33775755e-07 1.89247302e-08 3.79887570e-05 ... 1.49886512e-06\n",
      "  9.99849796e-01 2.32878961e-06]\n",
      " [1.99618880e-05 5.27914881e-06 7.60947005e-04 ... 1.03267164e-04\n",
      "  9.92728114e-01 1.31478976e-03]\n",
      " ...\n",
      " [8.41648944e-06 5.66815834e-06 1.70480325e-05 ... 2.39801109e-01\n",
      "  5.72470832e-04 7.31220961e-01]\n",
      " [2.08604592e-03 1.95018970e-03 3.38473427e-03 ... 1.33155808e-01\n",
      "  9.27490555e-03 4.09566723e-02]\n",
      " [8.82503169e-04 6.67409913e-04 1.14875415e-03 ... 5.91883995e-03\n",
      "  1.06459493e-02 3.06677762e-02]]\n",
      "\n",
      "\n",
      "              precision    recall  f1-score   support\n",
      "\n",
      "           0       0.81      0.78      0.80      1232\n",
      "           1       0.97      0.94      0.95      1174\n",
      "           2       0.75      0.72      0.73      1200\n",
      "           3       0.83      0.85      0.84      1242\n",
      "           4       0.68      0.76      0.72      1185\n",
      "           5       0.91      0.87      0.89      1141\n",
      "           6       0.59      0.57      0.58      1243\n",
      "           7       0.89      0.90      0.89      1224\n",
      "           8       0.94      0.93      0.94      1149\n",
      "           9       0.90      0.94      0.92      1210\n",
      "\n",
      "    accuracy                           0.82     12000\n",
      "   macro avg       0.83      0.83      0.83     12000\n",
      "weighted avg       0.83      0.82      0.82     12000\n",
      "\n"
     ]
    }
   ],
   "source": [
    "y_keras_pred = keras_model.predict(X_test)\n",
    "print(y_keras_pred)\n",
    "print('\\n')\n",
    "\n",
    "print(classification_report(y_test, \n",
    "                            (tf.argmax(keras_model.predict(X_test), axis=1)).numpy()))"
   ]
  },
  {
   "cell_type": "markdown",
   "id": "0bb09396",
   "metadata": {},
   "source": [
    "## Binary Logistic Regression with Keras on TensorFlow "
   ]
  },
  {
   "cell_type": "code",
   "execution_count": 105,
   "id": "1beae8a9",
   "metadata": {},
   "outputs": [],
   "source": [
    "import numpy as np\n",
    "import pandas as pd\n",
    "import tensorflow as tf\n",
    "\n",
    "from tensorflow.keras.models import Sequential\n",
    "from tensorflow.keras.layers import Flatten, Dense\n",
    "from tensorflow.keras.optimizers import SGD\n",
    "\n",
    "from sklearn.model_selection import train_test_split\n",
    "from sklearn.metrics import classification_report\n",
    "\n",
    "\n",
    "# load data: Capture the dataset in Python using Pandas DataFrame\n",
    "csv_data = '../data/datasets/diabetes.csv'\n",
    "df = pd.read_csv(csv_data, delimiter=',')\n",
    "df = df.dropna()\n",
    "\n",
    "# Divide the data, y the variable to predict (label) and X the features\n",
    "X = df[df.columns[1:]]\n",
    "y = df['Outcome'].values.ravel()\n"
   ]
  },
  {
   "cell_type": "code",
   "execution_count": 106,
   "id": "e705de32",
   "metadata": {},
   "outputs": [],
   "source": [
    "# Splitting the data : training (80%) and test (20%)\n",
    "X_train_, X_test_, y_train_, y_test_ = train_test_split(X, y, test_size=0.2, random_state=42)\n",
    "X_train_.shape\n",
    "\n",
    "# Standardize the data\n",
    "from sklearn.preprocessing import Normalizer\n",
    "X_train_ = Normalizer().fit_transform(X_train_)\n",
    "X_test_ = Normalizer().fit_transform(X_test_)\n"
   ]
  },
  {
   "cell_type": "code",
   "execution_count": 108,
   "id": "2bf5142c",
   "metadata": {},
   "outputs": [
    {
     "name": "stdout",
     "output_type": "stream",
     "text": [
      "Epoch 1/5\n",
      "20/20 [==============================] - 0s 792us/step - loss: 1.6246\n",
      "Epoch 2/5\n",
      "20/20 [==============================] - 0s 777us/step - loss: 1.6246\n",
      "Epoch 3/5\n",
      "20/20 [==============================] - 0s 791us/step - loss: 1.6246\n",
      "Epoch 4/5\n",
      "20/20 [==============================] - 0s 942us/step - loss: 1.6246\n",
      "Epoch 5/5\n",
      "20/20 [==============================] - 0s 951us/step - loss: 1.6246\n",
      "5/5 [==============================] - 0s 1ms/step - loss: 1.7011\n",
      "\n",
      "\n",
      "[[0.42503497 0.2515513  0.14312401 ... 0.00186495 0.18649493 0.        ]\n",
      " [0.7745625  0.5186802  0.22130357 ... 0.00102353 0.14523047 0.        ]\n",
      " [0.8246999  0.48871106 0.         ... 0.00120651 0.16035831 0.        ]\n",
      " ...\n",
      " [0.6926289  0.52493984 0.         ... 0.00353605 0.41557735 0.        ]\n",
      " [0.3662772  0.17561236 0.09533242 ... 0.00084545 0.07275369 0.00250875]\n",
      " [0.5651558  0.5346069  0.30548963 ... 0.00538425 0.2978524  0.        ]]\n",
      "\n",
      "\n",
      "              precision    recall  f1-score   support\n",
      "\n",
      "           0       0.69      0.78      0.73        99\n",
      "           1       0.20      0.02      0.03        55\n",
      "           3       0.00      0.00      0.00         0\n",
      "\n",
      "    accuracy                           0.51       154\n",
      "   macro avg       0.30      0.27      0.25       154\n",
      "weighted avg       0.51      0.51      0.48       154\n",
      "\n"
     ]
    },
    {
     "name": "stderr",
     "output_type": "stream",
     "text": [
      "/usr/local/lib/python3.9/site-packages/sklearn/metrics/_classification.py:1308: UndefinedMetricWarning: Recall and F-score are ill-defined and being set to 0.0 in labels with no true samples. Use `zero_division` parameter to control this behavior.\n",
      "  _warn_prf(average, modifier, msg_start, len(result))\n",
      "/usr/local/lib/python3.9/site-packages/sklearn/metrics/_classification.py:1308: UndefinedMetricWarning: Recall and F-score are ill-defined and being set to 0.0 in labels with no true samples. Use `zero_division` parameter to control this behavior.\n",
      "  _warn_prf(average, modifier, msg_start, len(result))\n",
      "/usr/local/lib/python3.9/site-packages/sklearn/metrics/_classification.py:1308: UndefinedMetricWarning: Recall and F-score are ill-defined and being set to 0.0 in labels with no true samples. Use `zero_division` parameter to control this behavior.\n",
      "  _warn_prf(average, modifier, msg_start, len(result))\n"
     ]
    }
   ],
   "source": [
    "# Define number of classes and number of features to include in our model\n",
    "number_of_classes = 2\n",
    "number_of_features = X_train_.shape[1]\n",
    "\n",
    "model_diab = Sequential()\n",
    "model_diab.add(Flatten(input_dim=number_of_features))\n",
    "keras_model.add(Dense(number_of_classes, activation='sigmoid'))\n",
    "model_diab.compile(optimizer='adam', loss='binary_crossentropy')\n",
    "\n",
    "model_diab.fit(X_train_, y_train_, epochs=5)\n",
    "model_diab.evaluate(X_test_, y_test_) # loss, sparse_categorical_accuracy\n",
    "print('\\n')\n",
    "\n",
    "predictions = model_diab.predict(X_test_)\n",
    "print(predictions)\n",
    "print('\\n')\n",
    "\n",
    "print(classification_report(y_test_, \n",
    "                            (tf.argmax(model_diab.predict(X_test_), axis=1)).numpy()))"
   ]
  },
  {
   "cell_type": "code",
   "execution_count": null,
   "id": "fde61492",
   "metadata": {},
   "outputs": [],
   "source": []
  },
  {
   "cell_type": "code",
   "execution_count": null,
   "id": "6487f52d",
   "metadata": {},
   "outputs": [],
   "source": []
  }
 ],
 "metadata": {
  "kernelspec": {
   "display_name": "Python 3 (ipykernel)",
   "language": "python",
   "name": "python3"
  },
  "language_info": {
   "codemirror_mode": {
    "name": "ipython",
    "version": 3
   },
   "file_extension": ".py",
   "mimetype": "text/x-python",
   "name": "python",
   "nbconvert_exporter": "python",
   "pygments_lexer": "ipython3",
   "version": "3.9.7"
  }
 },
 "nbformat": 4,
 "nbformat_minor": 5
}
