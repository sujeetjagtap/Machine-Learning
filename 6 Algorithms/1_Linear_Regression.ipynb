{
  "cells": [
    {
      "cell_type": "markdown",
      "id": "dc9e17b9",
      "metadata": {
        "id": "dc9e17b9"
      },
      "source": [
        "# Machine Learning Algorithms: Linear Regression"
      ]
    },
    {
      "cell_type": "markdown",
      "id": "38993182",
      "metadata": {
        "id": "38993182"
      },
      "source": [
        "Linear regression is one of the most simple and popular algorithms where the output is in a continuous range such as salary, age, weight, or height and not classified into categories. The goal is to show a linear relationship between a single dependent (y) and one, called simple/univariate linear regression, or more, called multiple linear regression, independent variables (x) by fitting a line between them called the regression line. In less words, a linear regression model uses a straight line to fit the model. With linear regression, we can predict continuous values with a constant slope.\n",
        "\n",
        "Let’s say, we want to predict the weight of something according to the height of something or maybe the price of a house (y) according to the size of the house (x). We can imagine that y is linearly dependent on x and we can create a straight line with an equation looking like y = ax + b:\n",
        "\n",
        "h_θ (x)= y= θ_0+ θ_1 x\n",
        "\n",
        "Where h_θ is the hypothesis function, x is the independent variable, θ_0 and θ_1 are the regression coefficient (the parameters that need to be learnt).\n",
        "\n",
        "For multiple linear regression with several independent features (x) and a single dependent feature (y) the equation would be:\n",
        "\n",
        "h_θ (x)= y= θ_0+ θ_1 x_1+ θ_2 x_2+⋯+ θ_n x_n  \n"
      ]
    },
    {
      "cell_type": "markdown",
      "id": "ed8efb32",
      "metadata": {
        "id": "ed8efb32"
      },
      "source": [
        "## Simple Linear Regression: Scikit-Learn"
      ]
    },
    {
      "cell_type": "markdown",
      "id": "37b3e892",
      "metadata": {
        "id": "37b3e892"
      },
      "source": [
        "To illustrate what we described above, let’s implement a simple linear regression with scikit-learn (LinearRegression()) by generating a random dataset."
      ]
    },
    {
      "cell_type": "code",
      "execution_count": 1,
      "id": "71aca16f",
      "metadata": {
        "colab": {
          "base_uri": "https://localhost:8080/",
          "height": 518
        },
        "id": "71aca16f",
        "outputId": "75684651-5237-4b9f-ea45-da6efc52eeae"
      },
      "outputs": [
        {
          "output_type": "stream",
          "name": "stdout",
          "text": [
            "Slope: [[1.94369415]]\n",
            "Intercept: [4.5193723]\n",
            "Root mean squared error:  0.08610037959679763\n",
            "R2 score:  0.7795855368773891\n"
          ]
        },
        {
          "output_type": "display_data",
          "data": {
            "text/plain": [
              "<Figure size 640x480 with 1 Axes>"
            ],
            "image/png": "[encoded data removed]"
          },
          "metadata": {}
        }
      ],
      "source": [
        "# Import Libraries\n",
        "import numpy as np\n",
        "import matplotlib.pyplot as plt\n",
        "from sklearn.linear_model import LinearRegression\n",
        "from sklearn.metrics import mean_squared_error, r2_score\n",
        "\n",
        "# Generate random data-set\n",
        "np.random.seed(0)\n",
        "# There will be 200 data points ranging from 0 to 200\n",
        "x = np.random.rand(200, 1)\n",
        "y = 4 + 2 * x + np.random.rand(200, 1)\n",
        "\n",
        "# Sckit-learn implementation\n",
        "\n",
        "# Model initialization\n",
        "linear_regression_model = LinearRegression()\n",
        "# Fit the data (train the model)\n",
        "linear_regression_model.fit(x, y)\n",
        "# Model prediction\n",
        "y_predicted = linear_regression_model.predict(x)\n",
        "\n",
        "# Model evaluation\n",
        "rmse = mean_squared_error(y, y_predicted)\n",
        "r2 = r2_score(y, y_predicted)\n",
        "\n",
        "# Printing Slope, Intercept, RMSE and R2\n",
        "print('Slope:' ,linear_regression_model.coef_)\n",
        "print('Intercept:', linear_regression_model.intercept_)\n",
        "print('Root mean squared error: ', rmse)\n",
        "print('R2 score: ', r2)\n",
        "\n",
        "# Plotting data points\n",
        "plt.scatter(x, y, s=10)\n",
        "plt.xlabel('x')\n",
        "plt.ylabel('y')\n",
        "\n",
        "# Predicted values (regression line)\n",
        "plt.plot(x, y_predicted, color='r')\n",
        "plt.show()"
      ]
    },
    {
      "cell_type": "markdown",
      "id": "cdd595ce",
      "metadata": {
        "id": "cdd595ce"
      },
      "source": [
        "## Simple Linear Regression: TensorFlow"
      ]
    },
    {
      "cell_type": "markdown",
      "id": "d77af331",
      "metadata": {
        "id": "d77af331"
      },
      "source": [
        "Now, let’s implement a simple linear regression with TensorFlow by generating a random dataset. We use Gradient Descent, a learning rate of 0.01 and number of epochs 1000."
      ]
    },
    {
      "cell_type": "code",
      "execution_count": 4,
      "id": "59f989dc",
      "metadata": {
        "colab": {
          "base_uri": "https://localhost:8080/",
          "height": 829
        },
        "id": "59f989dc",
        "outputId": "670a0375-2666-4281-cf07-579c403b7c2e"
      },
      "outputs": [
        {
          "output_type": "stream",
          "name": "stdout",
          "text": [
            "Epoch: 0050 cost= 4.046965122 W= 1.706719 b= 1.8089526\n",
            "Epoch: 0100 cost= 1.194122195 W= 2.2308412 b= 2.860583\n",
            "Epoch: 0150 cost= 0.389478743 W= 2.4960198 b= 3.4254918\n",
            "Epoch: 0200 cost= 0.161574528 W= 2.6242018 b= 3.7319198\n",
            "Epoch: 0250 cost= 0.096121721 W= 2.6800892 b= 3.900989\n",
            "Epoch: 0300 cost= 0.076482169 W= 2.698006 b= 3.9969735\n",
            "Epoch: 0350 cost= 0.069815665 W= 2.696131 b= 4.053974\n",
            "Epoch: 0400 cost= 0.066869356 W= 2.684106 b= 4.090116\n",
            "Epoch: 0450 cost= 0.065035000 W= 2.66703 b= 4.115022\n",
            "Epoch: 0500 cost= 0.063579634 W= 2.6476405 b= 4.1337013\n",
            "Epoch: 0550 cost= 0.062286984 W= 2.6273458 b= 4.1489716\n",
            "Epoch: 0600 cost= 0.061094362 W= 2.606832 b= 4.16219\n",
            "Epoch: 0650 cost= 0.059985477 W= 2.5866368 b= 4.1741753\n",
            "Epoch: 0700 cost= 0.058943462 W= 2.5668473 b= 4.1854954\n",
            "Epoch: 0750 cost= 0.057964716 W= 2.5475132 b= 4.196224\n",
            "Epoch: 0800 cost= 0.057046860 W= 2.5287216 b= 4.2064776\n",
            "Epoch: 0850 cost= 0.056184921 W= 2.5104952 b= 4.216401\n",
            "Epoch: 0900 cost= 0.055373792 W= 2.492721 b= 4.225916\n",
            "Epoch: 0950 cost= 0.054615609 W= 2.475573 b= 4.235103\n",
            "Epoch: 1000 cost= 0.053904906 W= 2.4589992 b= 4.244027\n",
            "Optimization Finished!\n",
            "Training cost= 0.053904906 W= 2.4589992 b= 4.244027 \n",
            "\n"
          ]
        },
        {
          "output_type": "display_data",
          "data": {
            "text/plain": [
              "<Figure size 640x480 with 1 Axes>"
            ],
            "image/png": "[encoded data removed]"
          },
          "metadata": {}
        }
      ],
      "source": [
        "import tensorflow.compat.v1 as tf\n",
        "tf.disable_v2_behavior()\n",
        "#import tensorflow as tf\n",
        "import numpy as np\n",
        "import matplotlib.pyplot as plt\n",
        "rng = np.random\n",
        "\n",
        "# Parameters\n",
        "learning_rate = 0.01\n",
        "training_epochs = 1000\n",
        "display_step = 50\n",
        "\n",
        "# Training Data\n",
        "# Generating random linear data\n",
        "np.random.seed(0)\n",
        "# There will be 200 data points ranging from 0 to 200\n",
        "train_X = np.random.rand(200, 1)\n",
        "train_Y = 4 + 2 * train_X + np.random.rand(200, 1)\n",
        "\n",
        "n_samples = train_X.shape[0]\n",
        "\n",
        "# tf Graph Input\n",
        "X = tf.placeholder(\"float\")\n",
        "Y = tf.placeholder(\"float\")\n",
        "\n",
        "# Set model weights\n",
        "W = tf.Variable(rng.randn(), name=\"weight\")\n",
        "b = tf.Variable(rng.randn(), name=\"bias\")\n",
        "\n",
        "# Construct a linear model\n",
        "pred = tf.add(tf.multiply(X, W), b)\n",
        "\n",
        "# Mean squared error\n",
        "cost = tf.reduce_sum(tf.pow(pred-Y, 2))/(2*n_samples)\n",
        "\n",
        "# Gradient descent\n",
        "optimizer = tf.train.GradientDescentOptimizer(learning_rate).minimize(cost)\n",
        "\n",
        "# Initialize the variables\n",
        "init = tf.global_variables_initializer()\n",
        "\n",
        "# Start training\n",
        "with tf.Session() as sess:\n",
        "\n",
        "    # Run the initializer\n",
        "    sess.run(init)\n",
        "\n",
        "    # Fit all training data\n",
        "    for epoch in range(training_epochs):\n",
        "        for (x, y) in zip(train_X, train_Y):\n",
        "            sess.run(optimizer, feed_dict={X: x, Y: y})\n",
        "\n",
        "        # Display logs per epoch step\n",
        "        if (epoch+1) % display_step == 0:\n",
        "            c = sess.run(cost, feed_dict={X: train_X, Y: train_Y})\n",
        "            print(\"Epoch:\", '%04d' % (epoch+1), \"cost=\", \"{:.9f}\".format(c), \\\n",
        "                \"W=\", sess.run(W), \"b=\", sess.run(b))\n",
        "\n",
        "    print(\"Optimization Finished!\")\n",
        "    training_cost = sess.run(cost, feed_dict={X: train_X, Y: train_Y})\n",
        "    print(\"Training cost=\", training_cost, \"W=\", sess.run(W), \"b=\", sess.run(b), '\\n')\n",
        "\n",
        "    # Graphic display\n",
        "    plt.plot(train_X, train_Y, 'ro', label='Original data')\n",
        "    plt.plot(train_X, sess.run(W) * train_X + sess.run(b), label='Fitted line')\n",
        "    plt.legend()\n",
        "    plt.show()"
      ]
    },
    {
      "cell_type": "markdown",
      "id": "b1524698",
      "metadata": {
        "id": "b1524698"
      },
      "source": [
        "## Multiple Linear Regression: Scikit-learn"
      ]
    },
    {
      "cell_type": "markdown",
      "id": "e42949eb",
      "metadata": {
        "id": "e42949eb"
      },
      "source": [
        "In the real life, we rarely have one single independent variable and clean data. To illustrate multiple linear regression, we will use the California Cooperative Oceanic Fisheries Investigations (CalCOFI) data set representing the longest (1949-present) and most complete (more than 50,000 sampling stations) time series of oceanographic and larval fish data in the world (https://www.kaggle.com/datasets/sohier/calcofi?select=bottle.csv). This dataset became valuable for documenting climatic cycles locally. For the purpose of our exercise, we will extract the following variables:\n",
        "    - Depthm: depth in meters\n",
        "    - T_degC: water temperature in degree Celsius\n",
        "    - Salnty: salinity in g of salt per kg of water (g/kg)\n",
        "    - O2ml_L: O2 mixing ration in ml/L\n",
        "With this data, we can already ask some question such as if there is a relationship between water salinity and water temperature or can we predict the water temperature based on salinity and depth in meters. Let’s use the water temperature (T_DegC) as our dependent variable (target).\n",
        "\n",
        "To start, let’s capture the dataset using Pandas DataFrame, drop rows having at least one missing value, split the data into the variable we want to predict (T_degC) and the selected features (Depthm, Salnty, O2ml_L)."
      ]
    },
    {
      "cell_type": "code",
      "execution_count": 5,
      "id": "3da9c564",
      "metadata": {
        "colab": {
          "base_uri": "https://localhost:8080/"
        },
        "id": "3da9c564",
        "outputId": "e7e9873a-0790-400d-d653-6509abe68828"
      },
      "outputs": [
        {
          "output_type": "stream",
          "name": "stderr",
          "text": [
            "/tmp/ipython-input-2538545091.py:7: DtypeWarning: Columns (47,73) have mixed types. Specify dtype option on import or set low_memory=False.\n",
            "  df = pd.read_csv(csv_data, delimiter=',')\n"
          ]
        },
        {
          "output_type": "execute_result",
          "data": {
            "text/plain": [
              "(        T_degC\n",
              " 2160    10.300\n",
              " 2161    18.460\n",
              " 2162    10.290\n",
              " 2163    10.290\n",
              " 2164    10.330\n",
              " ...        ...\n",
              " 864858  18.744\n",
              " 864859  18.744\n",
              " 864860  18.692\n",
              " 864861  18.161\n",
              " 864862  17.533\n",
              " \n",
              " [661489 rows x 1 columns],\n",
              "         Depthm   Salnty  O2ml_L\n",
              " 2160         0  33.0300   5.900\n",
              " 2161         6  32.9200   6.020\n",
              " 2162        10  32.9510   6.040\n",
              " 2163        15  32.9900   6.060\n",
              " 2164        20  33.0050   6.040\n",
              " ...        ...      ...     ...\n",
              " 864858       0  33.4083   5.805\n",
              " 864859       2  33.4083   5.805\n",
              " 864860       5  33.4150   5.796\n",
              " 864861      10  33.4062   5.816\n",
              " 864862      15  33.3880   5.774\n",
              " \n",
              " [661489 rows x 3 columns])"
            ]
          },
          "metadata": {},
          "execution_count": 5
        }
      ],
      "source": [
        "import pandas as pd\n",
        "import matplotlib.pyplot as plt\n",
        "from sklearn import preprocessing\n",
        "\n",
        "# load data: Capture the dataset in Python using Pandas DataFrame\n",
        "csv_data = '/content/sample_data/bottle.csv'\n",
        "df = pd.read_csv(csv_data, delimiter=',')\n",
        "\n",
        "# Select the variables we want to keep: 'Depthm','T_degC','Salnty','O2ml_L'\n",
        "df = df[['Depthm','T_degC','Salnty','O2ml_L']]\n",
        "\n",
        "# Drop row having at least 1 missing value\n",
        "df = df.dropna()\n",
        "\n",
        "# Divide the data, y the variable to predict (T_degC) and X the features (Depthm, SaInty, O2ml_L)\n",
        "#y = pd.DataFrame(df.loc[:, df.columns == 'T_degC'], columns = [\"T_degC\"])\n",
        "#X = pd.DataFrame(df.loc[:, df.columns != 'T_degC'])\n",
        "y = df.loc[:, df.columns == 'T_degC']\n",
        "X = df.loc[:, df.columns != 'T_degC']\n",
        "\n",
        "y, X"
      ]
    },
    {
      "cell_type": "markdown",
      "id": "c6bbba03",
      "metadata": {
        "id": "c6bbba03"
      },
      "source": [
        "Before doing the linear regression model, we can check visually if a linear relationship exists between variables:  T_degC vs Depthm, T_degC vs Salnty, T_degC vs O2ml_L. To do this, we can compute some scatter diagrams with the matplotlib library by adding the lines below."
      ]
    },
    {
      "cell_type": "code",
      "execution_count": 6,
      "id": "b240d90c",
      "metadata": {
        "colab": {
          "base_uri": "https://localhost:8080/",
          "height": 472
        },
        "id": "b240d90c",
        "outputId": "1d8a94bf-d337-421b-9ea7-e1a530aada3e"
      },
      "outputs": [
        {
          "output_type": "display_data",
          "data": {
            "text/plain": [
              "<Figure size 640x480 with 1 Axes>"
            ],
            "image/png": "[encoded data removed]"
          },
          "metadata": {}
        }
      ],
      "source": [
        "# Plot diagrams with the matplotlib library.\n",
        "plt.scatter(y,X['Depthm'])\n",
        "plt.title('Depthm Vs T_degC')\n",
        "plt.xlabel('T_degC')\n",
        "plt.ylabel('Depthm')\n",
        "plt.grid(True)\n",
        "\n",
        "plt.show()"
      ]
    },
    {
      "cell_type": "code",
      "execution_count": 7,
      "id": "c079792d",
      "metadata": {
        "colab": {
          "base_uri": "https://localhost:8080/",
          "height": 472
        },
        "id": "c079792d",
        "outputId": "4449d3c1-12a4-464a-f00e-6441c04e2f96"
      },
      "outputs": [
        {
          "output_type": "display_data",
          "data": {
            "text/plain": [
              "<Figure size 640x480 with 1 Axes>"
            ],
            "image/png": "[encoded data removed]"
          },
          "metadata": {}
        }
      ],
      "source": [
        "plt.scatter(y,X['Salnty'])\n",
        "plt.title('Salnty Vs T_degC')\n",
        "plt.xlabel('T_degC')\n",
        "plt.ylabel('Salnty')\n",
        "plt.grid(True)\n",
        "plt.show()"
      ]
    },
    {
      "cell_type": "code",
      "execution_count": 8,
      "id": "39e2a297",
      "metadata": {
        "colab": {
          "base_uri": "https://localhost:8080/",
          "height": 472
        },
        "id": "39e2a297",
        "outputId": "d37e7b0f-97c7-4a20-aba3-16a4f41a7f55"
      },
      "outputs": [
        {
          "output_type": "display_data",
          "data": {
            "text/plain": [
              "<Figure size 640x480 with 1 Axes>"
            ],
            "image/png": "[encoded data removed]"
          },
          "metadata": {}
        }
      ],
      "source": [
        "plt.scatter(y,X['O2ml_L'])\n",
        "plt.title('O2ml_L Vs T_degC')\n",
        "plt.xlabel('T_degC')\n",
        "plt.ylabel('O2ml_L')\n",
        "plt.grid(True)\n",
        "plt.show()"
      ]
    },
    {
      "cell_type": "markdown",
      "id": "a2220a0b",
      "metadata": {
        "id": "a2220a0b"
      },
      "source": [
        "As we can see, there is no linearity between T_degC and Depthm. We will drop the Depthm variable from our linear regression model and start divide the data between the variable to predict T_DegC and both features Depthm and Salnty.\n",
        "\n",
        "To apply linear regression to the data and find the intercept and coefficients, we can use sklearn."
      ]
    },
    {
      "cell_type": "code",
      "execution_count": 9,
      "id": "e5f9ebdf",
      "metadata": {
        "colab": {
          "base_uri": "https://localhost:8080/"
        },
        "id": "e5f9ebdf",
        "outputId": "0545b99a-7db0-463a-9688-c2a8a7334b8d"
      },
      "outputs": [
        {
          "output_type": "stream",
          "name": "stderr",
          "text": [
            "/tmp/ipython-input-1567211191.py:8: DtypeWarning: Columns (47,73) have mixed types. Specify dtype option on import or set low_memory=False.\n",
            "  df = pd.read_csv(csv_data, delimiter=',')\n"
          ]
        },
        {
          "output_type": "stream",
          "name": "stdout",
          "text": [
            "Intercept: \n",
            " [143.98894321]\n",
            "Coefficients: \n",
            " [[-138.18191503   41.17953079]]\n",
            "\n",
            "\n",
            "Predicted T_degC: \n",
            " [[15.24926345]\n",
            " [ 8.14078918]\n",
            " [ 9.9864041 ]\n",
            " ...\n",
            " [15.81746572]\n",
            " [ 7.8816554 ]\n",
            " [ 7.53595955]]\n"
          ]
        }
      ],
      "source": [
        "# Import libraries\n",
        "import pandas as pd\n",
        "import matplotlib.pyplot as plt\n",
        "from sklearn import preprocessing\n",
        "\n",
        "# load data: Capture the dataset in Python using Pandas DataFrame\n",
        "csv_data = '/content/sample_data/bottle.csv'\n",
        "df = pd.read_csv(csv_data, delimiter=',')\n",
        "\n",
        "# Select the variables we want to keep: 'Depthm','T_degC','Salnty','O2ml_L'\n",
        "df = df[['T_degC','Salnty','O2ml_L']]\n",
        "\n",
        "# Drop row having at least 1 missing value\n",
        "df = df.dropna()\n",
        "\n",
        "# Divide the data, y the variable to predict (T_degC) and X the features (Depthm, SaInty, O2ml_L)\n",
        "y = df.loc[:, df.columns == 'T_degC']\n",
        "X = df.loc[:, df.columns != 'T_degC']\n",
        "\n",
        "# Splitting the data : training and test (20%)\n",
        "from sklearn.model_selection import train_test_split\n",
        "X_train, X_test, y_train, y_test = train_test_split(X, y, test_size=0.2, random_state=42)\n",
        "\n",
        "# Normalize the data\n",
        "Normalize = preprocessing.Normalizer()\n",
        "# Transform data\n",
        "X_train = Normalize.fit_transform(X_train)\n",
        "X_test = Normalize.fit_transform(X_test)\n",
        "\n",
        "# Compute a linear regression model with sklearn\n",
        "from sklearn import linear_model\n",
        "regr = linear_model.LinearRegression()\n",
        "regr.fit(X_train, y_train)\n",
        "\n",
        "print('Intercept: \\n', regr.intercept_)\n",
        "print('Coefficients: \\n', regr.coef_)\n",
        "\n",
        "# Compute and print predicted output with X_test as inputs\n",
        "print('\\n')\n",
        "print ('Predicted T_degC: \\n', regr.predict(X_test))\n",
        "\n",
        "# To save the model for future use\n",
        "from joblib import dump, load\n",
        "dump(regr, 'linear_regression.joblib')\n",
        "\n",
        "# To load the model when needed\n",
        "regr = load('linear_regression.joblib')"
      ]
    },
    {
      "cell_type": "markdown",
      "id": "ffc59088",
      "metadata": {
        "id": "ffc59088"
      },
      "source": [
        "As we probably saw, there is no learning rate as this is not learned with Gradient Descent. In addition, the regressors X are normalized before regression by subtracting the mean and divinding by the l2-norm. We can use different scaling method. For example, we can use SandardScaler before calling fit.\n",
        "\n",
        "A linear model fitted by minimizing a regularized empirical loss Stochastic Gradient Descent is possible by using SGDRegressor in scikit learn. The default value of the learning rate is 0.01."
      ]
    },
    {
      "cell_type": "code",
      "execution_count": 11,
      "id": "b00afaff",
      "metadata": {
        "colab": {
          "base_uri": "https://localhost:8080/"
        },
        "id": "b00afaff",
        "outputId": "3b0debc8-8b54-430a-9423-5c755a2a7b5b"
      },
      "outputs": [
        {
          "output_type": "stream",
          "name": "stderr",
          "text": [
            "/tmp/ipython-input-3856408074.py:9: DtypeWarning: Columns (47,73) have mixed types. Specify dtype option on import or set low_memory=False.\n",
            "  df = pd.read_csv(csv_data, delimiter=',')\n",
            "/usr/local/lib/python3.12/dist-packages/sklearn/utils/validation.py:1408: DataConversionWarning: A column-vector y was passed when a 1d array was expected. Please change the shape of y to (n_samples, ), for example using ravel().\n",
            "  y = column_or_1d(y, warn=True)\n"
          ]
        },
        {
          "output_type": "stream",
          "name": "stdout",
          "text": [
            "Intercept: \n",
            " [11.0048718]\n",
            "Coefficients: \n",
            " [2.36989594 5.05188026]\n",
            "Predicted T_degC: \n",
            " [16.25350671  8.42810102 10.50506071 ... 16.94505682  7.38697484\n",
            "  8.114558  ]\n"
          ]
        }
      ],
      "source": [
        "# Importing. libraries\n",
        "import pandas as pd\n",
        "from sklearn.preprocessing import StandardScaler\n",
        "from sklearn.pipeline import make_pipeline\n",
        "from sklearn.linear_model import SGDRegressor\n",
        "\n",
        "# load data: Capture the dataset in Python using Pandas DataFrame\n",
        "csv_data = '/content/sample_data/bottle.csv'\n",
        "df = pd.read_csv(csv_data, delimiter=',')\n",
        "\n",
        "# Select the variables we want to keep: 'Depthm','T_degC','Salnty','O2ml_L'\n",
        "df = df[['T_degC','Salnty','O2ml_L']]\n",
        "\n",
        "# Drop row having at least 1 missing value\n",
        "df = df.dropna()\n",
        "\n",
        "# Divide the data, y the variable to predict (T_degC) and X the features (Depthm, SaInty, O2ml_L)\n",
        "y = pd.DataFrame(df.loc[:, df.columns == 'T_degC'], columns = [\"T_degC\"])\n",
        "X = pd.DataFrame(df.loc[:, df.columns != 'T_degC'])\n",
        "\n",
        "# Splitting the data : training and test (20%)\n",
        "from sklearn.model_selection import train_test_split\n",
        "X_train, X_test, y_train, y_test = train_test_split(X, y, test_size=0.2, random_state=42)\n",
        "\n",
        "# Scaling the data\n",
        "Normalize = preprocessing.StandardScaler()\n",
        "# Transform data\n",
        "X_train = Normalize.fit_transform(X_train)\n",
        "X_test = Normalize.fit_transform(X_test)\n",
        "\n",
        "# with sklearn\n",
        "from sklearn import linear_model\n",
        "regr = linear_model.SGDRegressor(learning_rate = 'constant', max_iter=1000, tol=1e-3)\n",
        "regr.fit(X_train, y_train)\n",
        "\n",
        "print('Intercept: \\n', regr.intercept_)\n",
        "print('Coefficients: \\n', regr.coef_)\n",
        "\n",
        "# Prediction with sklearn\n",
        "print ('Predicted T_degC: \\n', regr.predict(X_test))\n",
        "\n",
        "# To save the model for future use\n",
        "from joblib import dump, load\n",
        "dump(regr, 'linear_regression.joblib')\n",
        "\n",
        "# To load the model when needed\n",
        "regr = load('linear_regression.joblib')"
      ]
    },
    {
      "cell_type": "markdown",
      "id": "f4aea29f",
      "metadata": {
        "id": "f4aea29f"
      },
      "source": [
        "## Multiple Linear Regression: Statsmodels"
      ]
    },
    {
      "cell_type": "markdown",
      "id": "c31a7216",
      "metadata": {
        "id": "c31a7216"
      },
      "source": [
        "It is also possible to display a comprehensive table with statistical information generated by statsmodels providing insights about our model. Let’s just add few more lines."
      ]
    },
    {
      "cell_type": "code",
      "execution_count": 13,
      "id": "8df7b00e",
      "metadata": {
        "colab": {
          "base_uri": "https://localhost:8080/"
        },
        "id": "8df7b00e",
        "outputId": "af7c1b09-6e4e-4e01-c58b-1dab7258938a"
      },
      "outputs": [
        {
          "output_type": "stream",
          "name": "stderr",
          "text": [
            "/tmp/ipython-input-2783048909.py:9: DtypeWarning: Columns (47,73) have mixed types. Specify dtype option on import or set low_memory=False.\n",
            "  df = pd.read_csv(csv_data, delimiter=',')\n"
          ]
        },
        {
          "output_type": "stream",
          "name": "stdout",
          "text": [
            "                            OLS Regression Results                            \n",
            "==============================================================================\n",
            "Dep. Variable:                 T_degC   R-squared:                       0.628\n",
            "Model:                            OLS   Adj. R-squared:                  0.628\n",
            "Method:                 Least Squares   F-statistic:                 4.463e+05\n",
            "Date:                Thu, 25 Sep 2025   Prob (F-statistic):               0.00\n",
            "Time:                        08:10:23   Log-Likelihood:            -1.2519e+06\n",
            "No. Observations:              529191   AIC:                         2.504e+06\n",
            "Df Residuals:                  529188   BIC:                         2.504e+06\n",
            "Df Model:                           2                                         \n",
            "Covariance Type:            nonrobust                                         \n",
            "==============================================================================\n",
            "                 coef    std err          t      P>|t|      [0.025      0.975]\n",
            "------------------------------------------------------------------------------\n",
            "const        143.9889      2.611     55.142      0.000     138.871     149.107\n",
            "x1          -138.1819      2.604    -53.068      0.000    -143.285    -133.078\n",
            "x2            41.1795      0.260    158.293      0.000      40.670      41.689\n",
            "==============================================================================\n",
            "Omnibus:                   146709.668   Durbin-Watson:                   2.001\n",
            "Prob(Omnibus):                  0.000   Jarque-Bera (JB):           626334.600\n",
            "Skew:                           1.310   Prob(JB):                         0.00\n",
            "Kurtosis:                       7.641   Cond. No.                     1.47e+03\n",
            "==============================================================================\n",
            "\n",
            "Notes:\n",
            "[1] Standard Errors assume that the covariance matrix of the errors is correctly specified.\n",
            "[2] The condition number is large, 1.47e+03. This might indicate that there are\n",
            "strong multicollinearity or other numerical problems.\n",
            "Statsmodels parameters:\n",
            "const    143.989\n",
            "x1      -138.182\n",
            "x2        41.180\n",
            "dtype: float64\n",
            "\n",
            "\n"
          ]
        }
      ],
      "source": [
        "# Import libraries\n",
        "import pandas as pd\n",
        "import matplotlib.pyplot as plt\n",
        "from sklearn import preprocessing\n",
        "import numpy as np # Import numpy as it's used in the last print statement\n",
        "\n",
        "# load data: Capture the dataset in Python using Pandas DataFrame\n",
        "csv_data = '/content/sample_data/bottle.csv'\n",
        "df = pd.read_csv(csv_data, delimiter=',')\n",
        "\n",
        "# Select the variables we want to keep: 'Depthm','T_degC','Salnty','O2ml_L'\n",
        "df = df[['T_degC','Salnty','O2ml_L']]\n",
        "\n",
        "# Drop row having at least 1 missing value\n",
        "df = df.dropna()\n",
        "\n",
        "# Divide the data, y the variable to predict (T_degC) and X the features (Depthm, SaInty, O2ml_L)\n",
        "y = df.loc[:, df.columns == 'T_degC']\n",
        "X = df.loc[:, df.columns != 'T_degC']\n",
        "\n",
        "# Splitting the data : training and test (20%)\n",
        "from sklearn.model_selection import train_test_split\n",
        "X_train, X_test, y_train, y_test = train_test_split(X, y, test_size=0.2, random_state=42)\n",
        "\n",
        "# Normalize the data\n",
        "Normalize = preprocessing.Normalizer()\n",
        "# Transform data\n",
        "X_train = Normalize.fit_transform(X_train)\n",
        "X_test = Normalize.fit_transform(X_test)\n",
        "\n",
        "# with statsmodels\n",
        "import statsmodels.api as sm\n",
        "X_train = sm.add_constant(X_train) # adding a constant\n",
        "model = sm.OLS(y_train, X_train).fit()\n",
        "\n",
        "# Print model summary\n",
        "print_model = model.summary()\n",
        "print(print_model)\n",
        "\n",
        "print('Statsmodels parameters:')\n",
        "print(np.round(model.params, 3)) # Corrected from reg.params to model.params\n",
        "print('\\n')"
      ]
    },
    {
      "cell_type": "markdown",
      "id": "d49a4ba0",
      "metadata": {
        "id": "d49a4ba0"
      },
      "source": [
        "## Multiple Linear Regression: TensorFlow"
      ]
    },
    {
      "cell_type": "markdown",
      "id": "ac04cf17",
      "metadata": {
        "id": "ac04cf17"
      },
      "source": [
        "As we will see, computing a linear regression on the same data with TensorFlow will of course provide the same results but it is also a way to learn some vector and matrix operations (multiplication, transpose, inverse, etc.) in TensorFlow. We will see that it is quite similar to that of np.array with some differences."
      ]
    },
    {
      "cell_type": "code",
      "execution_count": 15,
      "id": "b0e6fedc",
      "metadata": {
        "colab": {
          "base_uri": "https://localhost:8080/"
        },
        "id": "b0e6fedc",
        "outputId": "943736d8-a7bf-4b6d-d938-062c0146246c"
      },
      "outputs": [
        {
          "output_type": "stream",
          "name": "stdout",
          "text": [
            "Num GPUs Available:  0\n"
          ]
        },
        {
          "output_type": "stream",
          "name": "stderr",
          "text": [
            "/tmp/ipython-input-3498299782.py:13: DtypeWarning: Columns (47,73) have mixed types. Specify dtype option on import or set low_memory=False.\n",
            "  df = pd.read_csv(csv_data, delimiter=',')\n"
          ]
        },
        {
          "output_type": "stream",
          "name": "stdout",
          "text": [
            "529191 2\n",
            "\n",
            "############### using sklearn ###############\n",
            "             estimate\n",
            "Intercept  143.988943\n",
            "Salnty    -138.181915\n",
            "O2ml_L      41.179531\n",
            "\n",
            "############### using statsmodels ###############\n",
            "             estimate   std.err     t-stats\n",
            "Intercept  143.988943  2.611227   55.142251\n",
            "Salnty    -138.181915  2.603864  -53.068028\n",
            "O2ml_L      41.179531  0.260148  158.292511\n",
            "\n",
            "############### using np.array ###############\n",
            "             estimate   std.err     t-stats\n",
            "Intercept  143.988944  2.611227   55.142251\n",
            "Salnty    -138.181915  2.603864  -53.068029\n",
            "O2ml_L      41.179531  0.260148  158.292511\n",
            "Device mapping: no known devices.\n"
          ]
        },
        {
          "output_type": "stream",
          "name": "stderr",
          "text": [
            "/tmp/ipython-input-3498299782.py:79: DeprecationWarning: `row_stack` alias is deprecated. Use `np.vstack` directly.\n",
            "  np.row_stack((beta, std_err, beta/std_err)).T)\n"
          ]
        },
        {
          "output_type": "stream",
          "name": "stdout",
          "text": [
            "\n",
            "############### using Tensorflow ###############\n",
            "             estimate   std.err     t-stats\n",
            "Intercept  143.988944  2.611227   55.142251\n",
            "Salnty    -138.181916  2.603864  -53.068029\n",
            "O2ml_L      41.179531  0.260148  158.292511\n"
          ]
        }
      ],
      "source": [
        "import pandas as pd\n",
        "import numpy as np\n",
        "from sklearn import preprocessing\n",
        "import tensorflow as tf\n",
        "\n",
        "# Print number of GPUs available\n",
        "print(\"Num GPUs Available: \", len(tf.config.list_physical_devices('GPU')))\n",
        "# For future use, which devices the operations and tensors are assigned to (GPU, CPU)\n",
        "tf.debugging.set_log_device_placement(True)\n",
        "\n",
        "# load data: Capture the dataset in Python using Pandas DataFrame\n",
        "csv_data = '/content/sample_data/bottle.csv'\n",
        "df = pd.read_csv(csv_data, delimiter=',')\n",
        "\n",
        "# Select the variables we want to keep: 'Depthm','T_degC','Salnty','O2ml_L'\n",
        "df = df[['T_degC','Salnty','O2ml_L']]\n",
        "\n",
        "# Drop row having at least 1 missing value\n",
        "df = df.dropna()\n",
        "\n",
        "# Divide the data, y the variable to predict (T_degC) and X the features (Depthm, SaInty, O2ml_L)\n",
        "y = df.loc[:, df.columns == 'T_degC'].values.ravel()\n",
        "X = df.loc[:, df.columns != 'T_degC']\n",
        "\n",
        "# Splitting the data : training and test (20%)\n",
        "from sklearn.model_selection import train_test_split\n",
        "X_train, X_test, y_train, y_test = train_test_split(X, y, test_size=0.2, random_state=42)\n",
        "\n",
        "# Normalize the data\n",
        "Normalize = preprocessing.Normalizer()\n",
        "# Transform data\n",
        "X_train = Normalize.fit_transform(X_train)\n",
        "X_test = Normalize.fit_transform(X_test)\n",
        "\n",
        "# Shape of the data (number of rows and columns)\n",
        "nrow, ncol = X_train.shape; print (nrow, ncol)\n",
        "nparam = ncol+1 # number of parameters\n",
        "\n",
        "# Keep columns name for table of results\n",
        "row_name_results = [['Intercept', 'Salnty','O2ml_L']]\n",
        "\n",
        "########## Using sklearn\n",
        "from sklearn import linear_model\n",
        "reg_mod = linear_model.LinearRegression()\n",
        "reg_mod.fit(X_train, y_train)\n",
        "\n",
        "df_results_sk = pd.DataFrame(\n",
        "    np.hstack([reg_mod.intercept_, reg_mod.coef_]))\n",
        "df_results_sk.columns = [\"estimate\"]\n",
        "df_results_sk.index   = row_name_results\n",
        "print(\"\\n############### using sklearn ###############\")\n",
        "print(df_results_sk)\n",
        "\n",
        "########## Using statsmodels\n",
        "import statsmodels.api as sm\n",
        "Xw1 = sm.add_constant(X_train)\n",
        "ols = sm.OLS(y_train, Xw1)\n",
        "fit = ols.fit()\n",
        "\n",
        "df_results_sm = pd.DataFrame(np.vstack([fit.params,\n",
        "                fit.bse, fit.params/fit.bse]).T)\n",
        "df_results_sm.columns = [\"estimate\", \"std.err\", \"t-stats\"]\n",
        "df_results_sm.index   = row_name_results\n",
        "\n",
        "print(\"\\n############### using statsmodels ###############\")\n",
        "print(df_results_sm)\n",
        "\n",
        "########## Using matrix formula (np.array)\n",
        "\n",
        "mX    = np.column_stack([np.ones(nrow),X_train])\n",
        "beta  = np.linalg.inv(mX.T.dot(mX)).dot(mX.T).dot(y_train)\n",
        "err   = y_train - mX.dot(beta)\n",
        "\n",
        "s2    = err.T.dot(err)/(nrow - ncol - 1)\n",
        "cov_beta = s2*np.linalg.inv(mX.T.dot(mX))\n",
        "std_err  = np.sqrt(np.diag(cov_beta))\n",
        "\n",
        "df_results_np = pd.DataFrame(\n",
        "    np.row_stack((beta, std_err, beta/std_err)).T)\n",
        "df_results_np.columns = [\"estimate\", \"std.err\", \"t-stats\"]\n",
        "df_results_np.index   = row_name_results\n",
        "\n",
        "print(\"\\n############### using np.array ###############\")\n",
        "print(df_results_np)\n",
        "\n",
        "########## Using matrix formula (Tensorflow)\n",
        "\n",
        "import tensorflow as tf\n",
        "tf.compat.v1.disable_eager_execution() # Disable eager execution\n",
        "\n",
        "# from np.array\n",
        "y_train = tf.constant(y_train, shape=[nrow, 1], dtype=tf.float64)\n",
        "X_train = tf.constant(X_train, shape=[nrow, ncol], dtype=tf.float64)\n",
        "\n",
        "# need double tensor\n",
        "one  = tf.cast(tf.ones([nrow, 1]), tf.float64)\n",
        "oneX = tf.concat([one, X_train], 1); # 1, X\n",
        "\n",
        "XtX  = tf.matmul(oneX, oneX ,transpose_a=True)\n",
        "Xty  = tf.matmul(oneX, y_train  ,transpose_a=True)\n",
        "beta = tf.matmul(tf.linalg.inv(XtX),Xty)\n",
        "err  = y_train - tf.matmul(oneX, beta)\n",
        "s2   = tf.matmul(err, err, transpose_a=True)/(nrow - nparam)\n",
        "cov_beta = s2*tf.linalg.inv(XtX)\n",
        "std_err  = tf.sqrt(tf.linalg.diag_part(cov_beta))\n",
        "beta = tf.reshape(beta,[nparam])\n",
        "\n",
        "est_out   = tf.stack([beta, std_err, beta/std_err],1)\n",
        "\n",
        "with tf.compat.v1.Session() as sess:\n",
        "    est_out_np = sess.run(est_out)\n",
        "\n",
        "df_results_tf = pd.DataFrame(est_out_np)\n",
        "df_results_tf.columns = [\"estimate\", \"std.err\", \"t-stats\"]\n",
        "df_results_tf.index   = row_name_results\n",
        "\n",
        "print(\"\\n############### using Tensorflow ###############\")\n",
        "print(df_results_tf)"
      ]
    },
    {
      "cell_type": "markdown",
      "id": "73c8a556",
      "metadata": {
        "id": "73c8a556"
      },
      "source": [
        "## Multiple Linear Regression: Keras on TensorFlow"
      ]
    },
    {
      "cell_type": "markdown",
      "id": "7352c477",
      "metadata": {
        "id": "7352c477"
      },
      "source": [
        "Let’s now implement a multiple linear regression with Keras on TensorFlow. The approach is quite similar as scikit-learn. We capture the dataset in Python using Pandas DataFrame, we select the variables we want to work with, we drop rows having at least one missing value, we divide the data with a target variable and the features, we can split the data to have training and test data, we scale the data, and we create a sequential model. The sequential layer allows stacking of one layer on top of the other, enabling the data to flow through them. We use mini-batch gradient descent optimizer and mean square loss. Finally, we check the performance by looking to the loss over time. We should see that the loss is reduced over time."
      ]
    },
    {
      "cell_type": "markdown",
      "id": "ac492ed5",
      "metadata": {
        "id": "ac492ed5"
      },
      "source": [
        "First example with univariate linear regression"
      ]
    },
    {
      "cell_type": "code",
      "execution_count": 27,
      "id": "7b83ec88",
      "metadata": {
        "colab": {
          "base_uri": "https://localhost:8080/",
          "height": 602
        },
        "id": "7b83ec88",
        "outputId": "3f6cce12-5a70-4b12-d8e2-686f59d4194e"
      },
      "outputs": [
        {
          "output_type": "stream",
          "name": "stdout",
          "text": [
            "TensorFlow version: 2.19.0\n",
            "Eager execution enabled: False\n"
          ]
        },
        {
          "output_type": "stream",
          "name": "stderr",
          "text": [
            "/tmp/ipython-input-1524068539.py:11: DtypeWarning: Columns (47,73) have mixed types. Specify dtype option on import or set low_memory=False.\n",
            "  df = pd.read_csv(csv_data, delimiter=',')\n"
          ]
        },
        {
          "output_type": "stream",
          "name": "stdout",
          "text": [
            "X_train shape: (529191, 1)\n",
            "y_train shape: (529191,)\n",
            "X_test shape: (132298, 1)\n",
            "y_test shape: (132298,)\n",
            "Epoch 1/50\n"
          ]
        },
        {
          "output_type": "stream",
          "name": "stderr",
          "text": [
            "/usr/local/lib/python3.12/dist-packages/keras/src/layers/core/dense.py:93: UserWarning: Do not pass an `input_shape`/`input_dim` argument to a layer. When using Sequential models, prefer using an `Input(shape)` object as the first layer in the model instead.\n",
            "  super().__init__(activity_regularizer=activity_regularizer, **kwargs)\n"
          ]
        },
        {
          "output_type": "error",
          "ename": "RuntimeError",
          "evalue": "`tf.data.Dataset` only supports Python-style iteration in eager mode or within tf.function.",
          "traceback": [
            "\u001b[0;31m---------------------------------------------------------------------------\u001b[0m",
            "\u001b[0;31mRuntimeError\u001b[0m                              Traceback (most recent call last)",
            "\u001b[0;32m/tmp/ipython-input-1524068539.py\u001b[0m in \u001b[0;36m<cell line: 0>\u001b[0;34m()\u001b[0m\n\u001b[1;32m     44\u001b[0m \u001b[0;34m\u001b[0m\u001b[0m\n\u001b[1;32m     45\u001b[0m \u001b[0;31m# Train the model\u001b[0m\u001b[0;34m\u001b[0m\u001b[0;34m\u001b[0m\u001b[0m\n\u001b[0;32m---> 46\u001b[0;31m \u001b[0mtrain\u001b[0m \u001b[0;34m=\u001b[0m \u001b[0mmodel\u001b[0m\u001b[0;34m.\u001b[0m\u001b[0mfit\u001b[0m\u001b[0;34m(\u001b[0m\u001b[0mX_train\u001b[0m\u001b[0;34m,\u001b[0m \u001b[0my_train\u001b[0m\u001b[0;34m,\u001b[0m \u001b[0mepochs\u001b[0m\u001b[0;34m=\u001b[0m\u001b[0;36m50\u001b[0m\u001b[0;34m)\u001b[0m\u001b[0;34m\u001b[0m\u001b[0;34m\u001b[0m\u001b[0m\n\u001b[0m\u001b[1;32m     47\u001b[0m \u001b[0;34m\u001b[0m\u001b[0m\n\u001b[1;32m     48\u001b[0m \u001b[0;31m# Performance Analysis: loss over time\u001b[0m\u001b[0;34m\u001b[0m\u001b[0;34m\u001b[0m\u001b[0m\n",
            "\u001b[0;32m/usr/local/lib/python3.12/dist-packages/keras/src/utils/traceback_utils.py\u001b[0m in \u001b[0;36merror_handler\u001b[0;34m(*args, **kwargs)\u001b[0m\n\u001b[1;32m    120\u001b[0m             \u001b[0;31m# To get the full stack trace, call:\u001b[0m\u001b[0;34m\u001b[0m\u001b[0;34m\u001b[0m\u001b[0m\n\u001b[1;32m    121\u001b[0m             \u001b[0;31m# `keras.config.disable_traceback_filtering()`\u001b[0m\u001b[0;34m\u001b[0m\u001b[0;34m\u001b[0m\u001b[0m\n\u001b[0;32m--> 122\u001b[0;31m             \u001b[0;32mraise\u001b[0m \u001b[0me\u001b[0m\u001b[0;34m.\u001b[0m\u001b[0mwith_traceback\u001b[0m\u001b[0;34m(\u001b[0m\u001b[0mfiltered_tb\u001b[0m\u001b[0;34m)\u001b[0m \u001b[0;32mfrom\u001b[0m \u001b[0;32mNone\u001b[0m\u001b[0;34m\u001b[0m\u001b[0;34m\u001b[0m\u001b[0m\n\u001b[0m\u001b[1;32m    123\u001b[0m         \u001b[0;32mfinally\u001b[0m\u001b[0;34m:\u001b[0m\u001b[0;34m\u001b[0m\u001b[0;34m\u001b[0m\u001b[0m\n\u001b[1;32m    124\u001b[0m             \u001b[0;32mdel\u001b[0m \u001b[0mfiltered_tb\u001b[0m\u001b[0;34m\u001b[0m\u001b[0;34m\u001b[0m\u001b[0m\n",
            "\u001b[0;32m/usr/local/lib/python3.12/dist-packages/tensorflow/python/data/ops/dataset_ops.py\u001b[0m in \u001b[0;36m__iter__\u001b[0;34m(self)\u001b[0m\n\u001b[1;32m    501\u001b[0m         \u001b[0;32mreturn\u001b[0m \u001b[0miterator_ops\u001b[0m\u001b[0;34m.\u001b[0m\u001b[0mOwnedIterator\u001b[0m\u001b[0;34m(\u001b[0m\u001b[0mself\u001b[0m\u001b[0;34m)\u001b[0m\u001b[0;34m\u001b[0m\u001b[0;34m\u001b[0m\u001b[0m\n\u001b[1;32m    502\u001b[0m     \u001b[0;32melse\u001b[0m\u001b[0;34m:\u001b[0m\u001b[0;34m\u001b[0m\u001b[0;34m\u001b[0m\u001b[0m\n\u001b[0;32m--> 503\u001b[0;31m       raise RuntimeError(\"`tf.data.Dataset` only supports Python-style \"\n\u001b[0m\u001b[1;32m    504\u001b[0m                          \"iteration in eager mode or within tf.function.\")\n\u001b[1;32m    505\u001b[0m \u001b[0;34m\u001b[0m\u001b[0m\n",
            "\u001b[0;31mRuntimeError\u001b[0m: `tf.data.Dataset` only supports Python-style iteration in eager mode or within tf.function."
          ]
        }
      ],
      "source": [
        "# Importing the libraries\n",
        "import tensorflow as tf\n",
        "print(f\"TensorFlow version: {tf.__version__}\")\n",
        "print(f\"Eager execution enabled: {tf.executing_eagerly()}\")\n",
        "import pandas as pd\n",
        "import numpy as np\n",
        "import matplotlib.pyplot as plt\n",
        "\n",
        "# Load data: Capture the dataset in Python using Pandas DataFrame\n",
        "csv_data = '/content/sample_data/bottle.csv'\n",
        "df = pd.read_csv(csv_data, delimiter=',')\n",
        "\n",
        "# Select the variables we want to keep: 'T_degC','Salnty','O2ml_L'\n",
        "df = df[['T_degC','Salnty','O2ml_L']]\n",
        "\n",
        "# Drop rows having at least 1 missing value\n",
        "df = df.dropna()\n",
        "\n",
        "# Divide the data, y the variable to predict (T_degC) and X the features (Salnty)\n",
        "y = df['T_degC'].values\n",
        "X = df['Salnty'].values.reshape(-1, 1)  # Reshape to 2D array for sklearn compatibility\n",
        "\n",
        "# Splitting the data: training and test (20%)\n",
        "from sklearn.model_selection import train_test_split\n",
        "X_train, X_test, y_train, y_test = train_test_split(X, y, test_size=0.2, random_state=42)\n",
        "\n",
        "# Print shapes to verify data structure\n",
        "print(f\"X_train shape: {X_train.shape}\")\n",
        "print(f\"y_train shape: {y_train.shape}\")\n",
        "print(f\"X_test shape: {X_test.shape}\")\n",
        "print(f\"y_test shape: {y_test.shape}\")\n",
        "\n",
        "# Creating a Sequential Model with TF2\n",
        "from tensorflow.keras.models import Sequential\n",
        "from tensorflow.keras.layers import Dense\n",
        "\n",
        "model = Sequential()\n",
        "# As we have only one feature, input_dim = 1\n",
        "model.add(Dense(1, input_dim=1, activation='linear'))\n",
        "\n",
        "# We use mini-batch gradient descent optimizer and mean square loss\n",
        "from tensorflow.keras.optimizers import SGD\n",
        "model.compile(optimizer=SGD(learning_rate=0.0001), loss='mse')  # Fixed: Use string 'mse' instead of function\n",
        "\n",
        "# Train the model\n",
        "train = model.fit(X_train, y_train, epochs=50)\n",
        "\n",
        "# Performance Analysis: loss over time\n",
        "plt.figure(figsize=(10, 6))\n",
        "plt.plot(train.history['loss'], label='loss')\n",
        "plt.xlabel('epochs')\n",
        "plt.ylabel('loss')\n",
        "plt.legend()\n",
        "plt.title('Training Loss Over Time')\n",
        "plt.show()\n",
        "\n",
        "# Testing the model and print the predictions\n",
        "y_pred = model.predict(X_train)\n",
        "\n",
        "# Our linear equation with weights and bias\n",
        "w0 = model.layers[0].get_weights()[0][0][0]  # Fixed: Added extra [0] for proper indexing\n",
        "b = model.layers[0].get_weights()[1][0]      # Fixed: Added [0] for proper indexing\n",
        "\n",
        "print(\"Linear Regression Equation: %.6f * X + %.6f\" % (w0, b))\n",
        "\n",
        "# Plot the model (regression line in green)\n",
        "plt.figure(figsize=(10, 6))\n",
        "plt.scatter(X_train, y_train, c='blue', alpha=0.6, label='Training Data')\n",
        "plt.plot(X_train, y_pred, color='green', label='Model Prediction', linewidth=2)\n",
        "\n",
        "# Plot the linear equation in red (will overlap with green line)\n",
        "plt.plot(X_train, w0*X_train + b, color='red', linestyle='--', alpha=0.7, label='Linear Equation')\n",
        "\n",
        "plt.xlabel('Salinity (X_train)')\n",
        "plt.ylabel('Temperature (y_train)')\n",
        "plt.legend()\n",
        "plt.title('Linear Regression: Temperature vs Salinity')\n",
        "plt.show()\n",
        "\n",
        "# Let's predict new values using test data\n",
        "new_predictions = model.predict(X_test)\n",
        "print(\"Predictions on test data:\")\n",
        "print(new_predictions.flatten())  # Flatten to make output cleaner\n",
        "\n",
        "# Evaluate model performance on test data\n",
        "from sklearn.metrics import mean_squared_error, r2_score\n",
        "mse_score = mean_squared_error(y_test, new_predictions)\n",
        "r2 = r2_score(y_test, new_predictions)\n",
        "\n",
        "print(f\"\\nModel Performance on Test Data:\")\n",
        "print(f\"Mean Squared Error: {mse_score:.6f}\")\n",
        "print(f\"R² Score: {r2:.6f}\")\n",
        "\n",
        "# Save our model for future use\n",
        "# model.save('../Outputs/keras_linear_model')"
      ]
    },
    {
      "cell_type": "code",
      "execution_count": 23,
      "id": "d603b0b3",
      "metadata": {
        "colab": {
          "base_uri": "https://localhost:8080/",
          "height": 408
        },
        "id": "d603b0b3",
        "outputId": "870eed1d-60f7-4f28-aa98-cf7a69c40e0d"
      },
      "outputs": [
        {
          "output_type": "error",
          "ename": "RuntimeError",
          "evalue": "`tf.data.Dataset` only supports Python-style iteration in eager mode or within tf.function.",
          "traceback": [
            "\u001b[0;31m---------------------------------------------------------------------------\u001b[0m",
            "\u001b[0;31mRuntimeError\u001b[0m                              Traceback (most recent call last)",
            "\u001b[0;32m/tmp/ipython-input-655924705.py\u001b[0m in \u001b[0;36m<cell line: 0>\u001b[0;34m()\u001b[0m\n\u001b[1;32m      1\u001b[0m \u001b[0;31m# We can also print the true values (y_test) versus predicted values (new_predictions)\u001b[0m\u001b[0;34m\u001b[0m\u001b[0;34m\u001b[0m\u001b[0m\n\u001b[1;32m      2\u001b[0m \u001b[0;31m# Make predictions with X_test\u001b[0m\u001b[0;34m\u001b[0m\u001b[0;34m\u001b[0m\u001b[0m\n\u001b[0;32m----> 3\u001b[0;31m \u001b[0my_pred_new\u001b[0m \u001b[0;34m=\u001b[0m \u001b[0mmodel\u001b[0m\u001b[0;34m.\u001b[0m\u001b[0mpredict\u001b[0m\u001b[0;34m(\u001b[0m\u001b[0mX_test\u001b[0m\u001b[0;34m)\u001b[0m\u001b[0;34m\u001b[0m\u001b[0;34m\u001b[0m\u001b[0m\n\u001b[0m\u001b[1;32m      4\u001b[0m \u001b[0mplt\u001b[0m\u001b[0;34m.\u001b[0m\u001b[0mscatter\u001b[0m\u001b[0;34m(\u001b[0m\u001b[0my_test\u001b[0m\u001b[0;34m,\u001b[0m\u001b[0my_pred_new\u001b[0m\u001b[0;34m,\u001b[0m\u001b[0mcolor\u001b[0m\u001b[0;34m=\u001b[0m\u001b[0;34m'b'\u001b[0m\u001b[0;34m)\u001b[0m\u001b[0;34m\u001b[0m\u001b[0;34m\u001b[0m\u001b[0m\n\u001b[1;32m      5\u001b[0m \u001b[0mplt\u001b[0m\u001b[0;34m.\u001b[0m\u001b[0mshow\u001b[0m\u001b[0;34m(\u001b[0m\u001b[0;34m)\u001b[0m\u001b[0;34m\u001b[0m\u001b[0;34m\u001b[0m\u001b[0m\n",
            "\u001b[0;32m/usr/local/lib/python3.12/dist-packages/keras/src/utils/traceback_utils.py\u001b[0m in \u001b[0;36merror_handler\u001b[0;34m(*args, **kwargs)\u001b[0m\n\u001b[1;32m    120\u001b[0m             \u001b[0;31m# To get the full stack trace, call:\u001b[0m\u001b[0;34m\u001b[0m\u001b[0;34m\u001b[0m\u001b[0m\n\u001b[1;32m    121\u001b[0m             \u001b[0;31m# `keras.config.disable_traceback_filtering()`\u001b[0m\u001b[0;34m\u001b[0m\u001b[0;34m\u001b[0m\u001b[0m\n\u001b[0;32m--> 122\u001b[0;31m             \u001b[0;32mraise\u001b[0m \u001b[0me\u001b[0m\u001b[0;34m.\u001b[0m\u001b[0mwith_traceback\u001b[0m\u001b[0;34m(\u001b[0m\u001b[0mfiltered_tb\u001b[0m\u001b[0;34m)\u001b[0m \u001b[0;32mfrom\u001b[0m \u001b[0;32mNone\u001b[0m\u001b[0;34m\u001b[0m\u001b[0;34m\u001b[0m\u001b[0m\n\u001b[0m\u001b[1;32m    123\u001b[0m         \u001b[0;32mfinally\u001b[0m\u001b[0;34m:\u001b[0m\u001b[0;34m\u001b[0m\u001b[0;34m\u001b[0m\u001b[0m\n\u001b[1;32m    124\u001b[0m             \u001b[0;32mdel\u001b[0m \u001b[0mfiltered_tb\u001b[0m\u001b[0;34m\u001b[0m\u001b[0;34m\u001b[0m\u001b[0m\n",
            "\u001b[0;32m/usr/local/lib/python3.12/dist-packages/tensorflow/python/data/ops/dataset_ops.py\u001b[0m in \u001b[0;36m__iter__\u001b[0;34m(self)\u001b[0m\n\u001b[1;32m    501\u001b[0m         \u001b[0;32mreturn\u001b[0m \u001b[0miterator_ops\u001b[0m\u001b[0;34m.\u001b[0m\u001b[0mOwnedIterator\u001b[0m\u001b[0;34m(\u001b[0m\u001b[0mself\u001b[0m\u001b[0;34m)\u001b[0m\u001b[0;34m\u001b[0m\u001b[0;34m\u001b[0m\u001b[0m\n\u001b[1;32m    502\u001b[0m     \u001b[0;32melse\u001b[0m\u001b[0;34m:\u001b[0m\u001b[0;34m\u001b[0m\u001b[0;34m\u001b[0m\u001b[0m\n\u001b[0;32m--> 503\u001b[0;31m       raise RuntimeError(\"`tf.data.Dataset` only supports Python-style \"\n\u001b[0m\u001b[1;32m    504\u001b[0m                          \"iteration in eager mode or within tf.function.\")\n\u001b[1;32m    505\u001b[0m \u001b[0;34m\u001b[0m\u001b[0m\n",
            "\u001b[0;31mRuntimeError\u001b[0m: `tf.data.Dataset` only supports Python-style iteration in eager mode or within tf.function."
          ]
        }
      ],
      "source": [
        "# We can also print the true values (y_test) versus predicted values (new_predictions)\n",
        "import tensorflow as tf\n",
        "tf.config.experimental_run_eagerly(True)\n",
        "\n",
        "# Make predictions with X_test\n",
        "y_pred_new = model.predict(X_test)\n",
        "plt.scatter(y_test,y_pred_new,color='b')\n",
        "plt.show()"
      ]
    },
    {
      "cell_type": "markdown",
      "id": "4a8957d2",
      "metadata": {
        "id": "4a8957d2"
      },
      "source": [
        "Multiple Linear Regression with two Independent Variables"
      ]
    },
    {
      "cell_type": "code",
      "execution_count": 21,
      "id": "c1cec34f",
      "metadata": {
        "colab": {
          "base_uri": "https://localhost:8080/",
          "height": 463
        },
        "id": "c1cec34f",
        "outputId": "e2604fc1-8d7e-400f-e36b-164e73919807"
      },
      "outputs": [
        {
          "output_type": "stream",
          "name": "stdout",
          "text": [
            "Epoch 1/10\n"
          ]
        },
        {
          "output_type": "stream",
          "name": "stderr",
          "text": [
            "/usr/local/lib/python3.12/dist-packages/keras/src/layers/core/dense.py:93: UserWarning: Do not pass an `input_shape`/`input_dim` argument to a layer. When using Sequential models, prefer using an `Input(shape)` object as the first layer in the model instead.\n",
            "  super().__init__(activity_regularizer=activity_regularizer, **kwargs)\n"
          ]
        },
        {
          "output_type": "error",
          "ename": "RuntimeError",
          "evalue": "`tf.data.Dataset` only supports Python-style iteration in eager mode or within tf.function.",
          "traceback": [
            "\u001b[0;31m---------------------------------------------------------------------------\u001b[0m",
            "\u001b[0;31mRuntimeError\u001b[0m                              Traceback (most recent call last)",
            "\u001b[0;32m/tmp/ipython-input-911888907.py\u001b[0m in \u001b[0;36m<cell line: 0>\u001b[0;34m()\u001b[0m\n\u001b[1;32m     47\u001b[0m \u001b[0;32mfrom\u001b[0m \u001b[0mtensorflow\u001b[0m\u001b[0;34m.\u001b[0m\u001b[0mkeras\u001b[0m\u001b[0;34m.\u001b[0m\u001b[0mlosses\u001b[0m \u001b[0;32mimport\u001b[0m \u001b[0mmse\u001b[0m\u001b[0;34m\u001b[0m\u001b[0;34m\u001b[0m\u001b[0m\n\u001b[1;32m     48\u001b[0m \u001b[0mmodel\u001b[0m\u001b[0;34m.\u001b[0m\u001b[0mcompile\u001b[0m\u001b[0;34m(\u001b[0m\u001b[0moptimizer\u001b[0m\u001b[0;34m=\u001b[0m\u001b[0mSGD\u001b[0m\u001b[0;34m(\u001b[0m\u001b[0mlearning_rate\u001b[0m\u001b[0;34m=\u001b[0m\u001b[0;36m0.01\u001b[0m\u001b[0;34m)\u001b[0m\u001b[0;34m,\u001b[0m\u001b[0mloss\u001b[0m\u001b[0;34m=\u001b[0m\u001b[0mmse\u001b[0m\u001b[0;34m)\u001b[0m\u001b[0;34m\u001b[0m\u001b[0;34m\u001b[0m\u001b[0m\n\u001b[0;32m---> 49\u001b[0;31m \u001b[0mtrain\u001b[0m \u001b[0;34m=\u001b[0m \u001b[0mmodel\u001b[0m\u001b[0;34m.\u001b[0m\u001b[0mfit\u001b[0m\u001b[0;34m(\u001b[0m\u001b[0mX_train\u001b[0m\u001b[0;34m,\u001b[0m\u001b[0my_train\u001b[0m\u001b[0;34m,\u001b[0m\u001b[0mepochs\u001b[0m\u001b[0;34m=\u001b[0m\u001b[0;36m10\u001b[0m\u001b[0;34m)\u001b[0m\u001b[0;34m\u001b[0m\u001b[0;34m\u001b[0m\u001b[0m\n\u001b[0m\u001b[1;32m     50\u001b[0m \u001b[0;34m\u001b[0m\u001b[0m\n\u001b[1;32m     51\u001b[0m \u001b[0;31m# Performance Analysis: loss over time\u001b[0m\u001b[0;34m\u001b[0m\u001b[0;34m\u001b[0m\u001b[0m\n",
            "\u001b[0;32m/usr/local/lib/python3.12/dist-packages/keras/src/utils/traceback_utils.py\u001b[0m in \u001b[0;36merror_handler\u001b[0;34m(*args, **kwargs)\u001b[0m\n\u001b[1;32m    120\u001b[0m             \u001b[0;31m# To get the full stack trace, call:\u001b[0m\u001b[0;34m\u001b[0m\u001b[0;34m\u001b[0m\u001b[0m\n\u001b[1;32m    121\u001b[0m             \u001b[0;31m# `keras.config.disable_traceback_filtering()`\u001b[0m\u001b[0;34m\u001b[0m\u001b[0;34m\u001b[0m\u001b[0m\n\u001b[0;32m--> 122\u001b[0;31m             \u001b[0;32mraise\u001b[0m \u001b[0me\u001b[0m\u001b[0;34m.\u001b[0m\u001b[0mwith_traceback\u001b[0m\u001b[0;34m(\u001b[0m\u001b[0mfiltered_tb\u001b[0m\u001b[0;34m)\u001b[0m \u001b[0;32mfrom\u001b[0m \u001b[0;32mNone\u001b[0m\u001b[0;34m\u001b[0m\u001b[0;34m\u001b[0m\u001b[0m\n\u001b[0m\u001b[1;32m    123\u001b[0m         \u001b[0;32mfinally\u001b[0m\u001b[0;34m:\u001b[0m\u001b[0;34m\u001b[0m\u001b[0;34m\u001b[0m\u001b[0m\n\u001b[1;32m    124\u001b[0m             \u001b[0;32mdel\u001b[0m \u001b[0mfiltered_tb\u001b[0m\u001b[0;34m\u001b[0m\u001b[0;34m\u001b[0m\u001b[0m\n",
            "\u001b[0;32m/usr/local/lib/python3.12/dist-packages/tensorflow/python/data/ops/dataset_ops.py\u001b[0m in \u001b[0;36m__iter__\u001b[0;34m(self)\u001b[0m\n\u001b[1;32m    501\u001b[0m         \u001b[0;32mreturn\u001b[0m \u001b[0miterator_ops\u001b[0m\u001b[0;34m.\u001b[0m\u001b[0mOwnedIterator\u001b[0m\u001b[0;34m(\u001b[0m\u001b[0mself\u001b[0m\u001b[0;34m)\u001b[0m\u001b[0;34m\u001b[0m\u001b[0;34m\u001b[0m\u001b[0m\n\u001b[1;32m    502\u001b[0m     \u001b[0;32melse\u001b[0m\u001b[0;34m:\u001b[0m\u001b[0;34m\u001b[0m\u001b[0;34m\u001b[0m\u001b[0m\n\u001b[0;32m--> 503\u001b[0;31m       raise RuntimeError(\"`tf.data.Dataset` only supports Python-style \"\n\u001b[0m\u001b[1;32m    504\u001b[0m                          \"iteration in eager mode or within tf.function.\")\n\u001b[1;32m    505\u001b[0m \u001b[0;34m\u001b[0m\u001b[0m\n",
            "\u001b[0;31mRuntimeError\u001b[0m: `tf.data.Dataset` only supports Python-style iteration in eager mode or within tf.function."
          ]
        }
      ],
      "source": [
        "# Importing the libraries\n",
        "import tensorflow as tf\n",
        "import pandas as pd\n",
        "import numpy as np\n",
        "import matplotlib.pyplot as plt\n",
        "from tensorflow import keras\n",
        "from tensorflow.keras import layers\n",
        "from sklearn import preprocessing\n",
        "\n",
        "# load data: Capture the dataset in Python using Pandas DataFrame\n",
        "csv_data = '/content/sample_data/bottle.csv'\n",
        "df = pd.read_csv(csv_data, delimiter=',', low_memory=False)\n",
        "\n",
        "# Select the variables we want to keep: 'Depthm','T_degC','Salnty','O2ml_L'\n",
        "df = df[['T_degC','Salnty','O2ml_L']]\n",
        "\n",
        "# Drop row having at least 1 missing value\n",
        "df = df.dropna()\n",
        "\n",
        "# Divide the data, y the variable to predict (T_degC) and X the features (Depthm, SaInty, O2ml_L)\n",
        "y = df.loc[:, df.columns == 'T_degC']\n",
        "X = df.loc[:, df.columns != 'T_degC']\n",
        "\n",
        "# Splitting the data : training and test (20%)\n",
        "from sklearn.model_selection import train_test_split\n",
        "X_train, X_test, y_train, y_test = train_test_split(X, y, test_size=0.2, random_state=42)\n",
        "\n",
        "# Normalize the data\n",
        "Normalize = preprocessing.Normalizer()\n",
        "# Transform data\n",
        "X_train = Normalize.fit_transform(X_train)\n",
        "X_test = Normalize.fit_transform(X_test)\n",
        "\n",
        "# Creating a Sequential Model with TF2\n",
        "# Sequential Layer allows stacking of one layer on top of the other , enabling the data to flow through them\n",
        "from tensorflow.keras.models import Sequential\n",
        "from tensorflow.keras.layers import Dense\n",
        "\n",
        "# We have two inputs for our model: 'Salnty' and 'O2ml_L' features\n",
        "model = Sequential()\n",
        "model.add(Dense(1, input_dim = 2, activation = 'linear'))\n",
        "#model.summary() # Commented out to avoid TypeError\n",
        "\n",
        "# Optimizer and Gradient Descent\n",
        "# We use mini-batch gradient descent optimizer and mean square loss\n",
        "from tensorflow.keras.optimizers import SGD\n",
        "from tensorflow.keras.losses import mse\n",
        "model.compile(optimizer=SGD(learning_rate=0.01),loss=mse)\n",
        "train = model.fit(X_train,y_train,epochs=10)\n",
        "\n",
        "# Performance Analysis: loss over time\n",
        "# We should see that the loss is reduced over time\n",
        "plt.plot(train.history['loss'],label='loss')\n",
        "plt.xlabel('epochs')\n",
        "plt.ylabel('loss')\n",
        "plt.show()\n",
        "\n",
        "# Model prediction\n",
        "y_pred = model.predict(X_train)\n",
        "\n",
        "# Extracting the weights and biases is achieved quite easily\n",
        "model.layers[0].get_weights()\n",
        "\n",
        "# We can save the weights and biases in separate variables\n",
        "weights = model.layers[0].get_weights()[0]\n",
        "bias = model.layers[0].get_weights()[1]\n",
        "print('Intercept and Weights from keras model')\n",
        "print(\"Intercept:\")\n",
        "print(bias)\n",
        "print(\"Weights:\")\n",
        "print(weights)\n",
        "print('\\n')\n",
        "\n",
        "# Model evaluation using scikit-learn tooling\n",
        "from sklearn.metrics import mean_squared_error, r2_score\n",
        "print('Keras model evaluation:')\n",
        "rmse = mean_squared_error(y_train, y_pred)\n",
        "r2 = r2_score(y_train, y_pred)\n",
        "\n",
        "# Printing values\n",
        "print('Root mean squared error: ', rmse)\n",
        "print('R2 score: ', r2)\n",
        "print('\\n')\n",
        "\n",
        "# Make predictions with X_test\n",
        "y_pred_new = model.predict(X_test)\n",
        "print('predictions:')\n",
        "print(y_pred_new)\n",
        "print('\\n')"
      ]
    },
    {
      "cell_type": "code",
      "execution_count": null,
      "id": "6d18029e",
      "metadata": {
        "id": "6d18029e"
      },
      "outputs": [],
      "source": []
    }
  ],
  "metadata": {
    "kernelspec": {
      "display_name": "Python 3 (ipykernel)",
      "language": "python",
      "name": "python3"
    },
    "language_info": {
      "codemirror_mode": {
        "name": "ipython",
        "version": 3
      },
      "file_extension": ".py",
      "mimetype": "text/x-python",
      "name": "python",
      "nbconvert_exporter": "python",
      "pygments_lexer": "ipython3",
      "version": "3.9.7"
    },
    "colab": {
      "provenance": []
    }
  },
  "nbformat": 4,
  "nbformat_minor": 5
}