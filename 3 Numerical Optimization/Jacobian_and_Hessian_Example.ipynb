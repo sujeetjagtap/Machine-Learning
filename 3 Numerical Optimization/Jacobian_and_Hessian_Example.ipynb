{
  "cells": [
    {
      "cell_type": "code",
      "source": [
        "!pip install numdifftools\n",
        "!pip install scipy"
      ],
      "metadata": {
        "colab": {
          "base_uri": "https://localhost:8080/"
        },
        "id": "f4i1A4-FRJ1V",
        "outputId": "41241d94-f639-4950-d64d-ee42787b75fd"
      },
      "execution_count": 6,
      "outputs": [
        {
          "output_type": "stream",
          "name": "stdout",
          "text": [
            "Collecting numdifftools\n",
            "  Downloading numdifftools-0.9.41-py2.py3-none-any.whl.metadata (39 kB)\n",
            "Requirement already satisfied: numpy>=1.9 in /usr/local/lib/python3.12/dist-packages (from numdifftools) (2.0.2)\n",
            "Requirement already satisfied: scipy>=0.8 in /usr/local/lib/python3.12/dist-packages (from numdifftools) (1.16.1)\n",
            "Downloading numdifftools-0.9.41-py2.py3-none-any.whl (100 kB)\n",
            "\u001b[?25l   \u001b[90m━━━━━━━━━━━━━━━━━━━━━━━━━━━━━━━━━━━━━━━━\u001b[0m \u001b[32m0.0/100.2 kB\u001b[0m \u001b[31m?\u001b[0m eta \u001b[36m-:--:--\u001b[0m\r\u001b[2K   \u001b[90m━━━━━━━━━━━━━━━━━━━━━━━━━━━━━━━━━━━━━━━━\u001b[0m \u001b[32m100.2/100.2 kB\u001b[0m \u001b[31m4.5 MB/s\u001b[0m eta \u001b[36m0:00:00\u001b[0m\n",
            "\u001b[?25hInstalling collected packages: numdifftools\n",
            "Successfully installed numdifftools-0.9.41\n",
            "Requirement already satisfied: scipy in /usr/local/lib/python3.12/dist-packages (1.16.1)\n",
            "Requirement already satisfied: numpy<2.6,>=1.25.2 in /usr/local/lib/python3.12/dist-packages (from scipy) (2.0.2)\n"
          ]
        }
      ]
    },
    {
      "cell_type": "code",
      "execution_count": 7,
      "metadata": {
        "id": "1Yui0DcxQ3ji"
      },
      "outputs": [],
      "source": [
        "import numpy as np\n",
        "from numdifftools import Jacobian, Hessian\n",
        "from scipy.optimize import minimize"
      ]
    },
    {
      "cell_type": "code",
      "execution_count": 12,
      "metadata": {
        "id": "atsFvK4PQ3jk"
      },
      "outputs": [],
      "source": [
        "# Objective Function\n",
        "def fun(x):\n",
        "    return (x[0]**2 + x[1]**2) + (0.5*x[0] + x[1])**2 + (0.5*x[0] + x[1])**4"
      ]
    },
    {
      "cell_type": "code",
      "execution_count": 13,
      "metadata": {
        "id": "wk6Msd0sQ3jl"
      },
      "outputs": [],
      "source": [
        "# Jacobian Matrix\n",
        "def fun_der(x):\n",
        "    return Jacobian(lambda x: fun(x))(x).ravel()"
      ]
    },
    {
      "cell_type": "code",
      "execution_count": 14,
      "metadata": {
        "id": "Ma7MwhMwQ3jl"
      },
      "outputs": [],
      "source": [
        "# Hessian Matrix\n",
        "def fun_hess(x):\n",
        "    return Hessian(lambda x: fun(x))(x)"
      ]
    },
    {
      "cell_type": "code",
      "execution_count": 15,
      "metadata": {
        "colab": {
          "base_uri": "https://localhost:8080/"
        },
        "id": "OPET5wUsQ3jl",
        "outputId": "c8cf81d4-694d-43ea-9386-b721c17b6ba0"
      },
      "outputs": [
        {
          "output_type": "execute_result",
          "data": {
            "text/plain": [
              " message: Optimization terminated successfully.\n",
              " success: True\n",
              "  status: 0\n",
              "     fun: 1.1638570253320106e-13\n",
              "       x: [ 1.017e-07  2.034e-07]\n",
              "     nit: 4\n",
              "     jac: [ 4.577e-07  9.154e-07]\n",
              "    nfev: 5\n",
              "    njev: 5\n",
              "    nhev: 4\n",
              "    hess: [[ 2.500e+00  1.000e+00]\n",
              "           [ 1.000e+00  4.000e+00]]"
            ]
          },
          "metadata": {},
          "execution_count": 15
        }
      ],
      "source": [
        "x0 = np.array([2, 0]) # initial guess\n",
        "minimize(fun, x0, method='dogleg', jac=fun_der, hess=fun_hess)"
      ]
    },
    {
      "cell_type": "markdown",
      "metadata": {
        "id": "Iw1g7BZMQ3jm"
      },
      "source": [
        "# NOTE:\n",
        "While is extremely cool and easy to use, I would recommend NOT using these methods to calculate the Jacobian and Hessian. As the objective function gets more complex, the computation time will increases and this will be costly.\n",
        "\n",
        "# TL;DR\n",
        "Calculate the Jacobian and Hessian. No matter how complex or dirty the math is, the computational cost far outweighs the mathematical complexity. Worse case-scenario: [wolfram-alpha](https://www.wolframalpha.com/)\n",
        "\n",
        "See (https://stackoverflow.com/questions/41137092/jacobian-and-hessian-inputs-in-scipy-optimize-minimize) for more details"
      ]
    }
  ],
  "metadata": {
    "kernelspec": {
      "display_name": "Python 3 (ipykernel)",
      "language": "python",
      "name": "python3"
    },
    "language_info": {
      "codemirror_mode": {
        "name": "ipython",
        "version": 3
      },
      "file_extension": ".py",
      "mimetype": "text/x-python",
      "name": "python",
      "nbconvert_exporter": "python",
      "pygments_lexer": "ipython3",
      "version": "3.9.20"
    },
    "colab": {
      "provenance": []
    }
  },
  "nbformat": 4,
  "nbformat_minor": 0
}