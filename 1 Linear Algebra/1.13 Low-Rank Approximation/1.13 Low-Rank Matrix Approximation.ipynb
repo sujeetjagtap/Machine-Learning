{
 "cells": [
  {
   "cell_type": "markdown",
   "metadata": {},
   "source": [
    "## Low-Rank Matrix Approximation"
   ]
  },
  {
   "cell_type": "markdown",
   "metadata": {},
   "source": [
    "-A common problem in many areas of large-scale machine learning involves deriving a useful and efficient approximation of a large matrix. \n",
    "\n",
    "-This matrix may be the Gram matrix associated to a positive definite kernel in kernel-based algorithms in classification, dimensionality reduction, or some other large matrix arising in other learning tasks such as clustering, collaborative filtering, or matrix completion. \n",
    "\n",
    "-For these large-scale problems, the number of matrix entries can be in the order of tens of thousands to millions. So we need to find alternative ways to approximate these SVD matricies"
   ]
  },
  {
   "cell_type": "code",
   "execution_count": 1,
   "metadata": {},
   "outputs": [],
   "source": [
    "import numpy as np"
   ]
  },
  {
   "cell_type": "code",
   "execution_count": 2,
   "metadata": {},
   "outputs": [],
   "source": [
    "def low_rank_approx(SVD=None, A=None, r=1):\n",
    "    \"\"\"\n",
    "    Computes an r-rank approximation of a matrix\n",
    "    given the component u, s, and v of it's SVD\n",
    "    Requires: numpy\n",
    "    \"\"\"\n",
    "    if not SVD:\n",
    "        SVD = np.linalg.svd(A, full_matrices=False)\n",
    "    u, s, v = SVD\n",
    "    Ar = np.zeros((len(u), len(v)))\n",
    "    for i in range(r):\n",
    "        Ar += s[i] * np.outer(u.T[i], v[i])\n",
    "    return Ar"
   ]
  },
  {
   "cell_type": "code",
   "execution_count": null,
   "metadata": {},
   "outputs": [],
   "source": [
    "if __name__ == \"__main__\":\n",
    "    \"\"\"\n",
    "    Test: visualize an r-rank approximation of `ascent`\n",
    "    for increasing values of r\n",
    "    Requires: scipy, matplotlib\n",
    "    \"\"\"\n",
    "    from scipy.misc import ascent\n",
    "    import matplotlib.pyplot as plt\n",
    "    x = ascent()\n",
    "    u, s, v = np.linalg.svd(x, full_matrices=False)\n",
    "    i = 1\n",
    "    plt.figure()\n",
    "    plt.ion()\n",
    "    while i < len(x) - 1:\n",
    "        y = low_rank_approx((u, s, v), r=i)\n",
    "        plt.imshow(y, cmap='gray')\n",
    "        plt.draw()\n",
    "        i += 1\n",
    "        #print percentage of singular spectrum used in approximation\n",
    "        print(\"{:.2f}\".format(100 * i / 512.))"
   ]
  },
  {
   "cell_type": "markdown",
   "metadata": {},
   "source": [
    "## References"
   ]
  },
  {
   "cell_type": "markdown",
   "metadata": {},
   "source": [
    "(https://cs.nyu.edu/~mohri/low_rank.html)\n",
    "\n",
    "Thank you [Tristan Hearn](https://gist.github.com/thearn/5424219) for your wonderful insight\n",
    "\n",
    "(https://arxiv.org/pdf/1812.07903.pdf)"
   ]
  }
 ],
 "metadata": {
  "kernelspec": {
   "display_name": "Python 3",
   "language": "python",
   "name": "python3"
  },
  "language_info": {
   "codemirror_mode": {
    "name": "ipython",
    "version": 3
   },
   "file_extension": ".py",
   "mimetype": "text/x-python",
   "name": "python",
   "nbconvert_exporter": "python",
   "pygments_lexer": "ipython3",
   "version": "3.6.7"
  }
 },
 "nbformat": 4,
 "nbformat_minor": 2
}
