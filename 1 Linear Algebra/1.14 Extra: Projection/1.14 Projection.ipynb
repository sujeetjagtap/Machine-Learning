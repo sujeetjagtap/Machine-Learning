{
 "cells": [
  {
   "cell_type": "code",
   "execution_count": 5,
   "metadata": {},
   "outputs": [],
   "source": [
    "import numpy as np\n",
    "import matplotlib.pyplot as plt\n",
    "import seaborn as sns"
   ]
  },
  {
   "cell_type": "markdown",
   "metadata": {},
   "source": [
    "# Projection with dot product\n",
    "\n",
    "$\n",
    "{p} = {x} \\frac{\\langle {x}, {y} \\rangle}{||{x}||^{2}}\n",
    "$\n"
   ]
  },
  {
   "cell_type": "code",
   "execution_count": 81,
   "metadata": {},
   "outputs": [
    {
     "data": {
      "text/plain": [
       "array([[0., 0.],\n",
       "       [2., 4.]])"
      ]
     },
     "execution_count": 81,
     "metadata": {},
     "output_type": "execute_result"
    }
   ],
   "source": [
    "# We are trying to solve for the p-vector\n",
    "u = np.array([[0,0],[2,4]])\n",
    "v = np.array([[0,0],[5,5]])\n",
    "\n",
    "def project(a,b):\n",
    "    return a*(np.dot(a.T,b))/(np.dot(a.T,a))\n",
    "\n",
    "p = project(v,u)\n",
    "p"
   ]
  },
  {
   "cell_type": "code",
   "execution_count": 87,
   "metadata": {},
   "outputs": [
    {
     "data": {
      "text/plain": [
       "array([[0.02173913, 0.04347826, 0.08695652, 0.10869565],\n",
       "       [0.04347826, 0.08695652, 0.17391304, 0.2173913 ],\n",
       "       [0.08695652, 0.17391304, 0.34782609, 0.43478261],\n",
       "       [0.10869565, 0.2173913 , 0.43478261, 0.54347826]])"
      ]
     },
     "execution_count": 87,
     "metadata": {},
     "output_type": "execute_result"
    }
   ],
   "source": [
    "# Projection Matrix\n",
    "P = np.outer(a,a.T)/np.dot(a.T, a)\n",
    "P"
   ]
  },
  {
   "cell_type": "code",
   "execution_count": 83,
   "metadata": {},
   "outputs": [
    {
     "data": {
      "image/png": "[encoded data removed]",
      "text/plain": [
       "<Figure size 288x288 with 1 Axes>"
      ]
     },
     "metadata": {
      "needs_background": "light"
     },
     "output_type": "display_data"
    }
   ],
   "source": [
    "u = u.flatten()\n",
    "v = v.flatten()\n",
    "p = [2,4,1,-1] # This is our projection\n",
    "plt.quiver([u[0], v[0], p[0]], \n",
    "           [u[1], v[1], p[1]], \n",
    "           [u[2], v[2], p[2]], \n",
    "           [u[3], v[3], p[3]],\n",
    "           angles='xy', scale_units='xy', scale=1, color=sns.color_palette())\n",
    "# plt.rc('text', usetex=True)\n",
    "plt.xlim(-2, 6)\n",
    "plt.ylim(-2, 8)\n",
    "plt.axvline(x=0, color='grey')\n",
    "plt.axhline(y=0, color='grey')\n",
    "\n",
    "plt.text(0, 3, r'$||\\vec{u}||$', color=sns.color_palette()[0], size=20)\n",
    "plt.text(3, 1.5, r'$||\\vec{v}||$', color=sns.color_palette()[1], size=20)\n",
    "plt.text(2, 5, r'$||\\vec{p}||$', color=sns.color_palette()[2], size=20)\n",
    "\n",
    "plt.show()\n",
    "plt.close()"
   ]
  }
 ],
 "metadata": {
  "kernelspec": {
   "display_name": "Python 3",
   "language": "python",
   "name": "python3"
  },
  "language_info": {
   "codemirror_mode": {
    "name": "ipython",
    "version": 3
   },
   "file_extension": ".py",
   "mimetype": "text/x-python",
   "name": "python",
   "nbconvert_exporter": "python",
   "pygments_lexer": "ipython3",
   "version": "3.6.7"
  }
 },
 "nbformat": 4,
 "nbformat_minor": 2
}
