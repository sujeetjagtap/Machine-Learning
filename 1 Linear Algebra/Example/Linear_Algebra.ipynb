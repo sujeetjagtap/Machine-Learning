{
  "cells": [
    {
      "cell_type": "markdown",
      "id": "9191ba59",
      "metadata": {
        "id": "9191ba59"
      },
      "source": [
        "# Linear Algebra for Machine Learning: A Beginner's Guide\n",
        "\n",
        "This notebook teaches **Linear Algebra** through **hands-on examples** using the **Iris dataset** — no prior math expertise needed!\n",
        "\n",
        "We'll cover:\n",
        "- Vectors, matrices, and operations\n",
        "- Eigenvalues, PCA, SVD\n",
        "- Real ML applications\n",
        "\n",
        "Perfect for beginners starting in ML, AI, or data science."
      ]
    },
    {
      "cell_type": "code",
      "execution_count": 52,
      "id": "f2015ff3",
      "metadata": {
        "colab": {
          "base_uri": "https://localhost:8080/"
        },
        "id": "f2015ff3",
        "outputId": "876e6bfd-3b6d-4ad9-e23e-6071f3d633b3"
      },
      "outputs": [
        {
          "output_type": "stream",
          "name": "stdout",
          "text": [
            "Dataset Shape: (150, 4)\n",
            "Features: ['sepal length (cm)', 'sepal width (cm)', 'petal length (cm)', 'petal width (cm)']\n",
            "Classes: ['setosa' 'versicolor' 'virginica']\n"
          ]
        }
      ],
      "source": [
        "# Import Libraries\n",
        "import numpy as np\n",
        "import matplotlib.pyplot as plt\n",
        "import seaborn as sns\n",
        "from sklearn.datasets import load_iris\n",
        "from scipy.spatial.distance import pdist, squareform\n",
        "\n",
        "# Load Iris dataset\n",
        "iris = load_iris()\n",
        "X = iris.data  # (150, 4): sepal/petal length/width\n",
        "y = iris.target  # (150,): species\n",
        "feature_names = iris.feature_names\n",
        "target_names = iris.target_names\n",
        "\n",
        "# Center the data (subtract mean)\n",
        "X_centered = X - X.mean(axis=0)\n",
        "\n",
        "print(\"Dataset Shape:\", X.shape)\n",
        "print(\"Features:\", feature_names)\n",
        "print(\"Classes:\", target_names)"
      ]
    },
    {
      "cell_type": "markdown",
      "id": "2d243b0d",
      "metadata": {
        "id": "2d243b0d"
      },
      "source": [
        "## 1. Vectors & Vector Operations\n",
        "\n",
        "A **vector** is a list of numbers. In ML, each flower is a 4D vector."
      ]
    },
    {
      "cell_type": "code",
      "execution_count": 53,
      "id": "0f8198b0",
      "metadata": {
        "colab": {
          "base_uri": "https://localhost:8080/"
        },
        "id": "0f8198b0",
        "outputId": "241e0ad0-cf1a-422f-a102-56cd58f14a29"
      },
      "outputs": [
        {
          "output_type": "stream",
          "name": "stdout",
          "text": [
            "Vector v1: [5.1 3.5 1.4 0.2]\n",
            "Vector v2: [4.9 3.  1.4 0.2]\n",
            "Dot Product: 37.490\n",
            "Cosine Similarity: 0.999\n"
          ]
        }
      ],
      "source": [
        "v1 = X[0]  # First flower\n",
        "v2 = X[1]  # Second flower\n",
        "\n",
        "print(\"Vector v1:\", np.round(v1, 2))\n",
        "print(\"Vector v2:\", np.round(v2, 2))\n",
        "\n",
        "# Operations\n",
        "dot = np.dot(v1, v2)\n",
        "norm_v1 = np.linalg.norm(v1)\n",
        "cos_sim = dot / (norm_v1 * np.linalg.norm(v2))\n",
        "\n",
        "print(f\"Dot Product: {dot:.3f}\")\n",
        "print(f\"Cosine Similarity: {cos_sim:.3f}\")"
      ]
    },
    {
      "cell_type": "markdown",
      "id": "38c5c50e",
      "metadata": {
        "id": "38c5c50e"
      },
      "source": [
        "✅ **Why it matters**: Cosine similarity measures shape similarity — used in search, clustering."
      ]
    },
    {
      "cell_type": "markdown",
      "id": "ab1b5775",
      "metadata": {
        "id": "ab1b5775"
      },
      "source": [
        "## 2. Matrices & Matrix Operations\n",
        "\n",
        "A **matrix** is a table of vectors. The Iris dataset is a (150, 4) matrix."
      ]
    },
    {
      "cell_type": "code",
      "execution_count": 54,
      "id": "d0cf0f55",
      "metadata": {
        "colab": {
          "base_uri": "https://localhost:8080/"
        },
        "id": "d0cf0f55",
        "outputId": "4b4ff6a2-9121-42fd-8943-5447735fc0c8"
      },
      "outputs": [
        {
          "output_type": "stream",
          "name": "stdout",
          "text": [
            "Data matrix shape: (150, 4)\n",
            "Transformed shape: (150, 2)\n"
          ]
        }
      ],
      "source": [
        "print(\"Data matrix shape:\", X.shape)\n",
        "\n",
        "# Transformation: Combine sepal and petal features\n",
        "W = np.array([[1, 0], [1, 0], [0, 1], [0, 1]])\n",
        "X_new = X @ W  # (150, 2)\n",
        "\n",
        "print(\"Transformed shape:\", X_new.shape)"
      ]
    },
    {
      "cell_type": "markdown",
      "id": "1dbe7bb6",
      "metadata": {
        "id": "1dbe7bb6"
      },
      "source": [
        "✅ **Why it matters**: Matrix multiplication powers neural networks and feature engineering."
      ]
    },
    {
      "cell_type": "markdown",
      "id": "65168fb9",
      "metadata": {
        "id": "65168fb9"
      },
      "source": [
        "## 3. Types of Matrices\n",
        "\n",
        "Common matrices:\n",
        "- **Diagonal**: Scaling features\n",
        "- **Identity**: Does nothing\n",
        "- **Symmetric**: Covariance matrix"
      ]
    },
    {
      "cell_type": "code",
      "execution_count": 55,
      "id": "37e86987",
      "metadata": {
        "colab": {
          "base_uri": "https://localhost:8080/"
        },
        "id": "37e86987",
        "outputId": "9b0222ba-ebfa-44d9-a76f-c8e571a0f11b"
      },
      "outputs": [
        {
          "output_type": "stream",
          "name": "stdout",
          "text": [
            "Covariance symmetric: True\n"
          ]
        }
      ],
      "source": [
        "# Diagonal scaling matrix\n",
        "D = np.diag(1 / X.std(axis=0))\n",
        "X_scaled = X @ D\n",
        "\n",
        "# Symmetric check\n",
        "Cov = np.cov(X.T)\n",
        "is_sym = np.allclose(Cov, Cov.T)\n",
        "\n",
        "print(\"Covariance symmetric:\", is_sym)"
      ]
    },
    {
      "cell_type": "markdown",
      "id": "3e70a971",
      "metadata": {
        "id": "3e70a971"
      },
      "source": [
        "✅ **Why it matters**: Diagonal matrices normalize data. Symmetric matrices are stable and common."
      ]
    },
    {
      "cell_type": "markdown",
      "id": "4b53ecf9",
      "metadata": {
        "id": "4b53ecf9"
      },
      "source": [
        "## 4. Determinant & Inverse\n",
        "\n",
        "Used to solve equations and measure transformation effects."
      ]
    },
    {
      "cell_type": "code",
      "execution_count": 56,
      "id": "58d5ac27",
      "metadata": {
        "colab": {
          "base_uri": "https://localhost:8080/"
        },
        "id": "58d5ac27",
        "outputId": "480cae71-e93b-4376-db19-829b20e7d05a"
      },
      "outputs": [
        {
          "output_type": "stream",
          "name": "stdout",
          "text": [
            "Determinant: 0.002\n",
            "Inverse (top-left 2x2):\n",
            " [[10.315 -6.713]\n",
            " [-6.713 11.058]]\n"
          ]
        }
      ],
      "source": [
        "det = np.linalg.det(Cov)\n",
        "inv_Cov = np.linalg.inv(Cov)\n",
        "\n",
        "print(f\"Determinant: {det:.3f}\")\n",
        "print(\"Inverse (top-left 2x2):\\n\", np.round(inv_Cov[:2, :2], 3))"
      ]
    },
    {
      "cell_type": "markdown",
      "id": "e731b541",
      "metadata": {
        "id": "e731b541"
      },
      "source": [
        "✅ **Why it matters**: Inverse is used in Gaussian models and LDA."
      ]
    },
    {
      "cell_type": "markdown",
      "id": "b3846291",
      "metadata": {
        "id": "b3846291"
      },
      "source": [
        "## 5. Solving Linear Equations\n",
        "\n",
        "Solve `Ax = b` to fit models like linear regression."
      ]
    },
    {
      "cell_type": "code",
      "execution_count": 57,
      "id": "db8757fe",
      "metadata": {
        "colab": {
          "base_uri": "https://localhost:8080/"
        },
        "id": "db8757fe",
        "outputId": "5a3743f9-e838-4e85-e3ae-03af0d773c04"
      },
      "outputs": [
        {
          "output_type": "stream",
          "name": "stdout",
          "text": [
            "Coefficients: [-0.246  0.204  0.536]\n",
            "Prediction (first 3): [0.21 0.16 0.19]\n",
            "Actual (first 3): [0.2 0.2 0.2]\n"
          ]
        }
      ],
      "source": [
        "A = X[:, [0,1,2]]  # Predict petal width from others\n",
        "b = X[:, 3]\n",
        "\n",
        "x, res, rank, s = np.linalg.lstsq(A, b, rcond=None)\n",
        "\n",
        "print(\"Coefficients:\", np.round(x, 3))\n",
        "print(\"Prediction (first 3):\", np.round(A[:3] @ x, 2))\n",
        "print(\"Actual (first 3):\", b[:3])"
      ]
    },
    {
      "cell_type": "markdown",
      "id": "26979c23",
      "metadata": {
        "id": "26979c23"
      },
      "source": [
        "✅ **Why it matters**: This is how linear regression works under the hood!"
      ]
    },
    {
      "cell_type": "markdown",
      "id": "27ef04da",
      "metadata": {
        "id": "27ef04da"
      },
      "source": [
        "## 6. Eigenvalues & Eigenvectors\n",
        "\n",
        "They show the directions of maximum variance in data."
      ]
    },
    {
      "cell_type": "code",
      "execution_count": 58,
      "id": "669a76af",
      "metadata": {
        "colab": {
          "base_uri": "https://localhost:8080/"
        },
        "id": "669a76af",
        "outputId": "6c464fad-0dd7-4387-8866-391100929989"
      },
      "outputs": [
        {
          "output_type": "stream",
          "name": "stdout",
          "text": [
            "Eigenvalues (variance): [4.228 0.243 0.078 0.024]\n",
            "First eigenvector (PC1): [ 0.361 -0.085  0.857  0.358]\n"
          ]
        }
      ],
      "source": [
        "eigenvals, eigenvecs = np.linalg.eig(Cov)\n",
        "idx = np.argsort(eigenvals)[::-1]\n",
        "eigenvals = eigenvals[idx]\n",
        "eigenvecs = eigenvecs[:, idx]\n",
        "\n",
        "print(\"Eigenvalues (variance):\", np.round(eigenvals, 3))\n",
        "print(\"First eigenvector (PC1):\", np.round(eigenvecs[:, 0], 3))"
      ]
    },
    {
      "cell_type": "markdown",
      "id": "9409c6a6",
      "metadata": {
        "id": "9409c6a6"
      },
      "source": [
        "✅ **Why it matters**: These define **Principal Components** — the foundation of PCA."
      ]
    },
    {
      "cell_type": "markdown",
      "id": "bc09d426",
      "metadata": {
        "id": "bc09d426"
      },
      "source": [
        "## 7. Singular Value Decomposition (SVD)\n",
        "\n",
        "Breaks any matrix into `U`, `Σ`, `Vᵀ` — used in compression and NLP."
      ]
    },
    {
      "cell_type": "code",
      "execution_count": 59,
      "id": "5ccf38f9",
      "metadata": {
        "colab": {
          "base_uri": "https://localhost:8080/"
        },
        "id": "5ccf38f9",
        "outputId": "f3cbaaf3-0812-4cdb-9e19-6a7b72c4b9f2"
      },
      "outputs": [
        {
          "output_type": "stream",
          "name": "stdout",
          "text": [
            "Original vs Reconstructed (first row):\n",
            "Orig: [-0.74  0.44 -2.36 -1.  ]\n",
            "Recon: [-0.76  0.46 -2.35 -0.99]\n"
          ]
        }
      ],
      "source": [
        "U, Sigma, VT = np.linalg.svd(X_centered)\n",
        "\n",
        "# Reconstruct using top 2 components\n",
        "X_approx = U[:, :2] @ np.diag(Sigma[:2]) @ VT[:2, :]\n",
        "\n",
        "print(\"Original vs Reconstructed (first row):\")\n",
        "print(\"Orig:\", np.round(X_centered[0], 2))\n",
        "print(\"Recon:\", np.round(X_approx[0], 2))"
      ]
    },
    {
      "cell_type": "markdown",
      "id": "92f1982b",
      "metadata": {
        "id": "92f1982b"
      },
      "source": [
        "✅ **Why it matters**: SVD is used in PCA, image compression, and recommendation systems."
      ]
    },
    {
      "cell_type": "markdown",
      "id": "6498d4ac",
      "metadata": {
        "id": "6498d4ac"
      },
      "source": [
        "## 8. Principal Component Analysis (PCA)\n",
        "\n",
        "Reduce 4D data to 2D for visualization."
      ]
    },
    {
      "cell_type": "code",
      "execution_count": 60,
      "id": "82413abc",
      "metadata": {
        "colab": {
          "base_uri": "https://localhost:8080/",
          "height": 564
        },
        "id": "82413abc",
        "outputId": "c092a262-d2b0-4605-f4a2-c325801f246a"
      },
      "outputs": [
        {
          "output_type": "display_data",
          "data": {
            "text/plain": [
              "<Figure size 800x600 with 1 Axes>"
            ],
            "image/png": "[encoded data removed]"
          },
          "metadata": {}
        }
      ],
      "source": [
        "X_pca = X_centered @ eigenvecs[:, :2]\n",
        "\n",
        "plt.figure(figsize=(8, 6))\n",
        "colors = ['red', 'green', 'blue']\n",
        "for i, name in enumerate(target_names):\n",
        "    mask = y == i\n",
        "    plt.scatter(X_pca[mask, 0], X_pca[mask, 1], label=name, c=colors[i], s=60)\n",
        "plt.xlabel(\"First Principal Component\")\n",
        "plt.ylabel(\"Second Principal Component\")\n",
        "plt.title(\"PCA of Iris Dataset\")\n",
        "plt.legend()\n",
        "plt.grid(True)\n",
        "plt.show()"
      ]
    },
    {
      "cell_type": "markdown",
      "id": "d518ab57",
      "metadata": {
        "id": "d518ab57"
      },
      "source": [
        "✅ **Why it matters**: PCA helps visualize high-dimensional data and reduces noise."
      ]
    },
    {
      "cell_type": "markdown",
      "id": "3cf3b684",
      "metadata": {
        "id": "3cf3b684"
      },
      "source": [
        "## 9. Linear Transformations\n",
        "\n",
        "Rotate, scale, or project data using matrix multiplication."
      ]
    },
    {
      "cell_type": "code",
      "execution_count": 61,
      "id": "f0a4ca9b",
      "metadata": {
        "colab": {
          "base_uri": "https://localhost:8080/",
          "height": 391
        },
        "id": "f0a4ca9b",
        "outputId": "933f8a24-f9e4-482d-a89d-709cae0d0216"
      },
      "outputs": [
        {
          "output_type": "display_data",
          "data": {
            "text/plain": [
              "<Figure size 1000x400 with 2 Axes>"
            ],
            "image/png": "[encoded data removed]"
          },
          "metadata": {}
        }
      ],
      "source": [
        "theta = np.radians(45)\n",
        "R = np.array([[np.cos(theta), -np.sin(theta)],\n",
        "              [np.sin(theta),  np.cos(theta)]])\n",
        "\n",
        "X_2d = X[:, :2]\n",
        "X_rot = X_2d @ R\n",
        "\n",
        "plt.figure(figsize=(10, 4))\n",
        "plt.subplot(1, 2, 1)\n",
        "plt.scatter(X_2d[:, 0], X_2d[:, 1])\n",
        "plt.title(\"Original\")\n",
        "\n",
        "plt.subplot(1, 2, 2)\n",
        "plt.scatter(X_rot[:, 0], X_rot[:, 1], c='r')\n",
        "plt.title(\"Rotated\")\n",
        "plt.show()"
      ]
    },
    {
      "cell_type": "markdown",
      "id": "a02a146e",
      "metadata": {
        "id": "a02a146e"
      },
      "source": [
        "✅ **Why it matters**: Every neural network layer applies a linear transformation."
      ]
    },
    {
      "cell_type": "markdown",
      "id": "82466fdc",
      "metadata": {
        "id": "82466fdc"
      },
      "source": [
        "## 10. Orthogonalization (Gram-Schmidt)\n",
        "\n",
        "Make vectors perpendicular (uncorrelated)."
      ]
    },
    {
      "cell_type": "code",
      "execution_count": 62,
      "id": "2b724713",
      "metadata": {
        "colab": {
          "base_uri": "https://localhost:8080/"
        },
        "id": "2b724713",
        "outputId": "556f6dfb-a42a-46da-f78b-a8c67e7a44a0"
      },
      "outputs": [
        {
          "output_type": "stream",
          "name": "stdout",
          "text": [
            "Q.T @ Q (should be identity):\n",
            " [[ 1.00000000e+00  0.00000000e+00 -0.00000000e+00  9.99998242e-01\n",
            "   1.31789390e-03 -1.33368830e-03  9.99998790e-01  1.46772650e-03\n",
            "  -5.15845200e-04 -9.99999718e-01]\n",
            " [ 0.00000000e+00  1.00000000e+00  0.00000000e+00 -1.30169220e-03\n",
            "   9.99926225e-01  1.20768651e-02  6.01948200e-04 -6.70782948e-01\n",
            "  -7.41653473e-01 -3.71422800e-04]\n",
            " [-0.00000000e+00  0.00000000e+00  1.00000000e+00 -1.34950590e-03\n",
            "   1.20751079e-02 -9.99926183e-01 -1.43456460e-03  7.41652265e-01\n",
            "  -6.70783019e-01  6.53217400e-04]\n",
            " [ 9.99998242e-01 -1.30169220e-03 -1.34950590e-03  1.00000000e+00\n",
            "   0.00000000e+00  0.00000000e+00  9.99998184e-01  1.34001270e-03\n",
            "   1.35478580e-03 -9.99998358e-01]\n",
            " [ 1.31789390e-03  9.99926225e-01  1.20751079e-02  0.00000000e+00\n",
            "   1.00000000e+00 -0.00000000e+00  1.90247360e-03 -6.61775995e-01\n",
            "  -7.49699215e-01 -1.68140120e-03]\n",
            " [-1.33368830e-03  1.20768651e-02 -9.99926183e-01  0.00000000e+00\n",
            "  -0.00000000e+00  1.00000000e+00  1.08041700e-04 -7.49700431e-01\n",
            "   6.61777343e-01  6.76033100e-04]\n",
            " [ 9.99998790e-01  6.01948200e-04 -1.43456460e-03  9.99998184e-01\n",
            "   1.90247360e-03  1.08041700e-04  1.00000000e+00 -0.00000000e+00\n",
            "  -0.00000000e+00 -9.99999668e-01]\n",
            " [ 1.46772650e-03 -6.70782948e-01  7.41652265e-01  1.34001270e-03\n",
            "  -6.61775995e-01 -7.49700431e-01 -0.00000000e+00  1.00000000e+00\n",
            "  -0.00000000e+00 -7.34121800e-04]\n",
            " [-5.15845200e-04 -7.41653473e-01 -6.70783019e-01  1.35478580e-03\n",
            "  -7.49699215e-01  6.61777343e-01 -0.00000000e+00 -0.00000000e+00\n",
            "   1.00000000e+00  3.53145000e-04]\n",
            " [-9.99999718e-01 -3.71422800e-04  6.53217400e-04 -9.99998358e-01\n",
            "  -1.68140120e-03  6.76033100e-04 -9.99999668e-01 -7.34121800e-04\n",
            "   3.53145000e-04  1.00000000e+00]]\n"
          ]
        }
      ],
      "source": [
        "def gram_schmidt(V):\n",
        "    U = np.zeros_like(V, dtype=float)\n",
        "    for i in range(V.shape[1]):\n",
        "        u = V[:, i].astype(float)\n",
        "        for j in range(i):\n",
        "            u -= np.dot(u, U[:, j]) * U[:, j]\n",
        "        u /= np.linalg.norm(u)\n",
        "        U[:, i] = u\n",
        "    return U\n",
        "\n",
        "V = X[:10, :3].T  # (3, 10)\n",
        "Q = gram_schmidt(V)\n",
        "print(\"Q.T @ Q (should be identity):\\n\", np.round(Q.T @ Q, 10))"
      ]
    },
    {
      "cell_type": "markdown",
      "id": "da2bc4a8",
      "metadata": {
        "id": "da2bc4a8"
      },
      "source": [
        "✅ **Why it matters**: Used in decorrelation and numerical stability."
      ]
    },
    {
      "cell_type": "markdown",
      "id": "95759618",
      "metadata": {
        "id": "95759618"
      },
      "source": [
        "## 11. Norms & Distances\n",
        "\n",
        "Measure vector size and distance between points."
      ]
    },
    {
      "cell_type": "code",
      "execution_count": 63,
      "id": "ca77d401",
      "metadata": {
        "colab": {
          "base_uri": "https://localhost:8080/"
        },
        "id": "ca77d401",
        "outputId": "b65495af-08d4-4272-903c-a4aab239e636"
      },
      "outputs": [
        {
          "output_type": "stream",
          "name": "stdout",
          "text": [
            "L2 Norm: 6.345\n",
            "L1 Norm: 10.200\n",
            "Distances from flower 0 (first 5): [0.   0.54 0.51 0.65 0.14]\n"
          ]
        }
      ],
      "source": [
        "v = X[0]\n",
        "l2 = np.linalg.norm(v, ord=2)\n",
        "l1 = np.linalg.norm(v, ord=1)\n",
        "print(f\"L2 Norm: {l2:.3f}\")\n",
        "print(f\"L1 Norm: {l1:.3f}\")\n",
        "\n",
        "D = squareform(pdist(X, metric='euclidean'))\n",
        "print(\"Distances from flower 0 (first 5):\", np.round(D[0, :5], 2))"
      ]
    },
    {
      "cell_type": "markdown",
      "id": "2257ea3b",
      "metadata": {
        "id": "2257ea3b"
      },
      "source": [
        "✅ **Why it matters**: Distance metrics power KNN, clustering, and anomaly detection."
      ]
    },
    {
      "cell_type": "markdown",
      "id": "3889593c",
      "metadata": {
        "id": "3889593c"
      },
      "source": [
        "## 12. Projection & Least Squares\n",
        "\n",
        "Project data onto a line (e.g., PCA direction)."
      ]
    },
    {
      "cell_type": "code",
      "execution_count": 64,
      "id": "e0d74105",
      "metadata": {
        "colab": {
          "base_uri": "https://localhost:8080/"
        },
        "id": "e0d74105",
        "outputId": "0455c752-a252-4d47-b2a8-adf3e47795d1"
      },
      "outputs": [
        {
          "output_type": "stream",
          "name": "stdout",
          "text": [
            "Mean Squared Error: 0.086\n"
          ]
        }
      ],
      "source": [
        "pc1 = eigenvecs[:, 0]\n",
        "proj_scalar = X_centered @ pc1\n",
        "X_projected = np.outer(proj_scalar, pc1)\n",
        "\n",
        "error = np.mean((X_centered - X_projected)**2)\n",
        "print(f\"Mean Squared Error: {error:.3f}\")"
      ]
    },
    {
      "cell_type": "markdown",
      "id": "3c290552",
      "metadata": {
        "id": "3c290552"
      },
      "source": [
        "✅ **Why it matters**: Projection reduces dimensions while preserving structure."
      ]
    },
    {
      "cell_type": "markdown",
      "id": "e2374474",
      "metadata": {
        "id": "e2374474"
      },
      "source": [
        "## 13. Positive Definite Matrices\n",
        "\n",
        "Covariance matrices must be positive semi-definite."
      ]
    },
    {
      "cell_type": "code",
      "execution_count": 65,
      "id": "8ae9e507",
      "metadata": {
        "colab": {
          "base_uri": "https://localhost:8080/"
        },
        "id": "8ae9e507",
        "outputId": "1dfa2f75-30a1-4484-f2eb-47ed1e766ec4"
      },
      "outputs": [
        {
          "output_type": "stream",
          "name": "stdout",
          "text": [
            "All eigenvalues ≥ 0? True\n"
          ]
        }
      ],
      "source": [
        "eigenvals_cov = np.linalg.eigvals(Cov)\n",
        "print(\"All eigenvalues ≥ 0?\", np.all(eigenvals_cov >= 0))"
      ]
    },
    {
      "cell_type": "markdown",
      "id": "3d62465c",
      "metadata": {
        "id": "3d62465c"
      },
      "source": [
        "✅ **Why it matters**: Ensures valid probability distributions (e.g., in Gaussian models)."
      ]
    },
    {
      "cell_type": "markdown",
      "id": "e62fc0fe",
      "metadata": {
        "id": "e62fc0fe"
      },
      "source": [
        "## 14. Putting It All Together: A Simple ML Classifier\n",
        "\n",
        "Let’s build a **nearest centroid classifier** using only Linear Algebra!"
      ]
    },
    {
      "cell_type": "code",
      "execution_count": 66,
      "id": "145ebc8e",
      "metadata": {
        "colab": {
          "base_uri": "https://localhost:8080/"
        },
        "id": "145ebc8e",
        "outputId": "d6ac9ebd-d30b-4a64-e6df-b17096e6436b"
      },
      "outputs": [
        {
          "output_type": "stream",
          "name": "stdout",
          "text": [
            "True:   [np.str_('setosa'), np.str_('setosa'), np.str_('setosa'), np.str_('setosa'), np.str_('setosa'), np.str_('setosa'), np.str_('setosa'), np.str_('setosa'), np.str_('setosa'), np.str_('setosa')]\n",
            "Pred:   [np.str_('setosa'), np.str_('setosa'), np.str_('setosa'), np.str_('setosa'), np.str_('setosa'), np.str_('setosa'), np.str_('setosa'), np.str_('setosa'), np.str_('setosa'), np.str_('setosa')]\n",
            "\n",
            "Classifier Accuracy: 92.7%\n"
          ]
        }
      ],
      "source": [
        "# Compute mean vector for each class\n",
        "centroids = np.array([X[y == i].mean(axis=0) for i in range(3)])\n",
        "\n",
        "# Predict function\n",
        "def predict(x):\n",
        "    distances = [np.linalg.norm(x - c) for c in centroids]\n",
        "    return np.argmin(distances)\n",
        "\n",
        "# Test on first 10 samples\n",
        "y_pred = [predict(X[i]) for i in range(10)]\n",
        "print(\"True:  \", [target_names[i] for i in y[:10]])\n",
        "print(\"Pred:  \", [target_names[i] for i in y_pred])\n",
        "\n",
        "# Accuracy\n",
        "acc = np.mean([predict(X[i]) == y[i] for i in range(len(X))])\n",
        "print(f\"\\nClassifier Accuracy: {acc * 100:.1f}%\")"
      ]
    },
    {
      "cell_type": "markdown",
      "metadata": {
        "id": "5904be4d"
      },
      "source": [
        "## Summary: Why Linear Algebra for ML?\n",
        "\n",
        "| Concept | ML Use |\n",
        "|--------|--------|\n",
        "| Vectors | Data points, embeddings |\n",
        "| Matrices | Datasets, transformations |\n",
        "| Eigen/SVD | PCA, compression |\n",
        "| Norms | Regularization, distance |\n",
        "| Projection | Dimensionality reduction |\n",
        "| Inverse | Solving equations |\n",
        "\n",
        "**You've now learned the Linear Algebra needed to understand Machine Learning**!\n",
        "\n",
        "**Next Steps**:\n",
        "- Try with other datasets (Wine, Breast Cancer)\n",
        "- Learn how neural networks use these operations\n",
        "- Explore PCA and SVD in `sklearn`"
      ],
      "id": "5904be4d"
    },
    {
      "cell_type": "markdown",
      "id": "61c13567",
      "metadata": {
        "id": "61c13567"
      },
      "source": [
        "### 📎 References\n",
        "- [Scikit-learn Iris Dataset](https://scikit-learn.org/stable/auto_examples/datasets/plot_iris_dataset.html)\n",
        "- Gilbert Strang: *Linear Algebra and Learning from Data*\n",
        "- 3Blue1Brown: *Essence of Linear Algebra* (YouTube)"
      ]
    }
  ],
  "metadata": {
    "colab": {
      "provenance": []
    },
    "kernelspec": {
      "display_name": "Python 3 (ipykernel)",
      "language": "python",
      "name": "python3"
    },
    "language_info": {
      "codemirror_mode": {
        "name": "ipython",
        "version": 3
      },
      "file_extension": ".py",
      "mimetype": "text/x-python",
      "name": "python",
      "nbconvert_exporter": "python",
      "pygments_lexer": "ipython3",
      "version": "3.9.20"
    }
  },
  "nbformat": 4,
  "nbformat_minor": 5
}